{
 "cells": [
  {
   "cell_type": "markdown",
   "metadata": {},
   "source": [
    "# Sentiment Analysis and Stock Prediction Model"
   ]
  },
  {
   "cell_type": "markdown",
   "metadata": {},
   "source": [
    "## Retrieve data"
   ]
  },
  {
   "cell_type": "code",
   "execution_count": 1,
   "metadata": {},
   "outputs": [
    {
     "name": "stderr",
     "output_type": "stream",
     "text": [
      "[*********************100%%**********************]  1 of 1 completed\n",
      "[*********************100%%**********************]  1 of 1 completed\n",
      "[*********************100%%**********************]  1 of 1 completed\n",
      "[*********************100%%**********************]  1 of 1 completed\n",
      "[*********************100%%**********************]  1 of 1 completed\n",
      "[*********************100%%**********************]  1 of 1 completed\n",
      "[*********************100%%**********************]  1 of 1 completed\n",
      "[*********************100%%**********************]  1 of 1 completed\n"
     ]
    }
   ],
   "source": [
    "import stock_retriever as sr\n",
    "from datetime import datetime\n",
    "import os\n",
    "stocks = ['MSFT', 'AAPL', 'NVDA','GOOGL','GOOG','AMZN','META','TSLA']\n",
    "start_date = '2020-01-01'\n",
    "end_date = datetime.today().strftime('%Y-%m-%d')\n",
    "for stock in stocks:\n",
    "    if(not os.path.exists(f'stock_data/{stock}_{start_date}_{end_date}.csv')):\n",
    "        sr.get_stock_data(stock, start_date=start_date, end_date=end_date).to_csv(f'stock_data/{stock}_{start_date}_{end_date}.csv')"
   ]
  },
  {
   "cell_type": "markdown",
   "metadata": {},
   "source": [
    "## Deep Learning"
   ]
  },
  {
   "cell_type": "code",
   "execution_count": null,
   "metadata": {},
   "outputs": [],
   "source": [
    "import numpy as np\n",
    "import torch\n",
    "import torch.nn as nn\n",
    "import matplotlib.pyplot as plt\n",
    "\n",
    "# Generate synthetic stock price data (replace with real data)\n",
    "np.random.seed(42)\n",
    "n_days = 100\n",
    "stock_prices = np.cumsum(np.random.randn(n_days))\n",
    "\n",
    "# Normalize data\n",
    "normalized_prices = (stock_prices - np.min(stock_prices)) / (np.max(stock_prices) - np.min(stock_prices))\n",
    "\n",
    "# Prepare input sequences (sliding window approach)\n",
    "seq_length = 10\n",
    "X, y = [], []\n",
    "for i in range(len(normalized_prices) - seq_length):\n",
    "    X.append(normalized_prices[i:i + seq_length])\n",
    "    y.append(normalized_prices[i + seq_length])\n",
    "\n",
    "X = torch.tensor(X).unsqueeze(2).float()\n",
    "y = torch.tensor(y).float()\n",
    "\n",
    "# Define LSTM model\n",
    "class StockLSTM(nn.Module):\n",
    "    def __init__(self, input_size, hidden_size, output_size):\n",
    "        super(StockLSTM, self).__init__()\n",
    "        self.lstm = nn.LSTM(input_size, hidden_size, batch_first=True)\n",
    "        self.fc = nn.Linear(hidden_size, output_size)\n",
    "\n",
    "    def forward(self, x):\n",
    "        out, _ = self.lstm(x)\n",
    "        out = self.fc(out[:, -1, :])\n",
    "        return out\n",
    "\n",
    "input_size = 1\n",
    "hidden_size = 32\n",
    "output_size = 1\n",
    "model = StockLSTM(input_size, hidden_size, output_size)\n",
    "\n",
    "# Loss function and optimizer\n",
    "criterion = nn.MSELoss()\n",
    "optimizer = torch.optim.Adam(model.parameters(), lr=0.001)\n",
    "\n",
    "# Training loop\n",
    "n_epochs = 100\n",
    "for epoch in range(n_epochs):\n",
    "    model.train()\n",
    "    optimizer.zero_grad()\n",
    "    outputs = model(X)\n",
    "    loss = criterion(outputs, y)\n",
    "    loss.backward()\n",
    "    optimizer.step()\n",
    "    print(f\"Epoch [{epoch + 1}/{n_epochs}], Loss: {loss.item():.4f}\")\n",
    "\n",
    "# Make predictions\n",
    "model.eval()\n",
    "with torch.inference_mode():\n",
    "    future_days = 10\n",
    "    future_inputs = X[-1, -seq_length:].unsqueeze(0)\n",
    "    for _ in range(future_days):\n",
    "        future_output = model(future_inputs)\n",
    "        future_inputs = torch.cat((future_inputs[:, 1:], future_output.unsqueeze(1)), dim=1)\n",
    "\n",
    "    predicted_prices = future_inputs.squeeze().numpy()\n",
    "\n",
    "# Plot results\n",
    "plt.plot(stock_prices, label=\"Actual Prices\")\n",
    "plt.plot(np.arange(n_days, n_days + future_days), predicted_prices, label=\"Predicted Prices\", linestyle=\"--\")\n",
    "plt.xlabel(\"Days\")\n",
    "plt.ylabel(\"Normalized Prices\")\n",
    "plt.title(\"Stock Price Prediction with LSTM\")\n",
    "plt.legend()\n",
    "plt.show()\n"
   ]
  }
 ],
 "metadata": {
  "kernelspec": {
   "display_name": "Python 3",
   "language": "python",
   "name": "python3"
  },
  "language_info": {
   "codemirror_mode": {
    "name": "ipython",
    "version": 3
   },
   "file_extension": ".py",
   "mimetype": "text/x-python",
   "name": "python",
   "nbconvert_exporter": "python",
   "pygments_lexer": "ipython3",
   "version": "3.11.5"
  }
 },
 "nbformat": 4,
 "nbformat_minor": 2
}
