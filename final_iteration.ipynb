{
 "cells": [
  {
   "cell_type": "markdown",
   "metadata": {},
   "source": [
    "__Project submitted by:__<br>\n",
    "__Pranay Raturi (24920)__<br>\n",
    "__Divij Jasuja (24954)__"
   ]
  },
  {
   "cell_type": "markdown",
   "metadata": {},
   "source": [
    "## Does twitter affect stock prices"
   ]
  },
  {
   "cell_type": "markdown",
   "metadata": {},
   "source": [
    "#### Index"
   ]
  },
  {
   "cell_type": "markdown",
   "metadata": {},
   "source": [
    "1. [Problem Statement](#problem-statement)\n",
    "2. [Libraries used](#libraries-used)\n",
    "3. [Collection of data](#collection-of-data)<br>\n",
    "    3.1. [Collecting stock data]()<br>\n",
    "    3.2. [Collecting tweets]()\n",
    "4. [Data cleaning](#data-cleaning)\n",
    "5. [Sentiment Analysis](#sentiment-analysis)\n",
    "6. [Visualizing the correlation between twitter sentiment and stock performance](#vizualization)\n",
    "7. [Applying LSTM](#applying-lstm) \n",
    "8. [Conclusions](#conclusions)"
   ]
  },
  {
   "cell_type": "markdown",
   "metadata": {},
   "source": [
    "#### Problem Statement"
   ]
  },
  {
   "cell_type": "markdown",
   "metadata": {},
   "source": [
    "The project aims to utilize sentiment analysis techniques on tweets related to NVIDIA Corporation (NASDAQ: NVDA) to explore and establish correlations between the sentiments expressed in these tweets and the subsequent stock performance of NVIDIA. The goal is to leverage these findings to develop a predictive model that can assist in forecasting stock movements based on sentiment trends in social media.<br><br>\n",
    "The objectives of the project are as follows:\n",
    "- Gather historical stock performance data for NVIDIA during Q1 2024.\n",
    "- Collect a comprehensive dataset of tweets mentioning NVIDIA or related keywords over the same period.\n",
    "- Implement sentiment analysis algorithms to quantify the sentiments expressed in these tweets as positive negative, or neutral.\n",
    "- Conduct statistical analysis to identify correlations between sentiment trends in tweets and subsequent stock price movements.\n",
    "- Use the findings to develop a predictive model."
   ]
  },
  {
   "cell_type": "markdown",
   "metadata": {},
   "source": [
    "#### Libraries used"
   ]
  },
  {
   "cell_type": "code",
   "execution_count": 2,
   "metadata": {},
   "outputs": [],
   "source": [
    "import warnings\n",
    "warnings.filterwarnings('ignore')"
   ]
  },
  {
   "cell_type": "code",
   "execution_count": 3,
   "metadata": {},
   "outputs": [],
   "source": [
    "# For general data handling \n",
    "import pandas as pd\n",
    "import numpy as np\n",
    "import os\n",
    "from datetime import date\n",
    "\n",
    "# For visualizations\n",
    "import matplotlib.pyplot as plt\n",
    "import seaborn as sns\n",
    "import plotly.graph_objects as go\n",
    "\n",
    "# For fetching stock data and tweets\n",
    "import yfinance as yf\n",
    "from twscrape import API, gather\n",
    "\n",
    "# For processing textual data\n",
    "import demoji\n",
    "import re\n",
    "import string\n",
    "from nltk.corpus import stopwords,wordnet\n",
    "from nltk.stem import WordNetLemmatizer\n",
    "from nltk.tokenize import TweetTokenizer\n",
    "from nltk import pos_tag\n",
    "\n",
    "# For sentiment analysis\n",
    "from transformers import AutoModelForSequenceClassification\n",
    "from transformers import AutoTokenizer, AutoConfig\n",
    "from scipy.special import softmax\n",
    "from tqdm import tqdm\n",
    "\n",
    "# For LSTM \n",
    "import torch\n",
    "from torch import nn\n",
    "from torch import optim"
   ]
  },
  {
   "cell_type": "markdown",
   "metadata": {},
   "source": [
    "The reasoning behind the selection of certain libraries will be explained later in the project, when said libraries are utilized"
   ]
  },
  {
   "cell_type": "markdown",
   "metadata": {},
   "source": [
    "#### Collection of data"
   ]
  },
  {
   "cell_type": "markdown",
   "metadata": {},
   "source": [
    "##### Collecting stock data"
   ]
  },
  {
   "cell_type": "code",
   "execution_count": 3,
   "metadata": {},
   "outputs": [
    {
     "name": "stderr",
     "output_type": "stream",
     "text": [
      "[*********************100%%**********************]  1 of 1 completed"
     ]
    },
    {
     "name": "stdout",
     "output_type": "stream",
     "text": [
      "Data added to stock_data folder\n"
     ]
    },
    {
     "name": "stderr",
     "output_type": "stream",
     "text": [
      "\n"
     ]
    }
   ],
   "source": [
    "# NVDA is the stock ticker of Nvidia on the NASDAQ\n",
    "ticker = \"NVDA\"\n",
    "start_date = \"2024-01-01\"\n",
    "end_date = \"2024-03-31\"\n",
    "# download the data from Yahoo Finance\n",
    "data = yf.download(ticker, start=start_date, end=end_date) \n",
    "# convert the downloaded data into csv files\n",
    "data.to_csv(f\"stock_data/{ticker}_{start_date[-5:]}-{end_date[-5:]}\")\n",
    "print(\"Data added to stock_data folder\")"
   ]
  },
  {
   "cell_type": "markdown",
   "metadata": {},
   "source": [
    "##### Collecting tweets"
   ]
  },
  {
   "cell_type": "markdown",
   "metadata": {},
   "source": [
    "To mine the tweets, the Python library **twscrape** was used. The library works through an authorised API, therefore twitter account(s) are needed in order to use it. A twitter username and password, and also the email associated with the twitter account and its password are needed to be able to collect tweets.\n",
    "\n",
    "The library is designed to automatically switch accounts when the twitter API limit has been reached per 15-minute interval. So multiple accounts can be added to the API pool in order to change to a different account and continue scraping when the other accounts have reached their API limits.\n",
    "\n",
    "The library makes use of **asynchronous programming**, allowing the program to continue executing even while some of the accounts have reached their API limits.\n",
    "\n",
    "More information about this library can be found in [this medium article](https://medium.com/@vladkens/how-to-still-scrape-millions-of-tweets-in-2023-using-twscrape-97f5d3881434)"
   ]
  },
  {
   "cell_type": "code",
   "execution_count": 4,
   "metadata": {},
   "outputs": [],
   "source": [
    "api = API()"
   ]
  },
  {
   "cell_type": "markdown",
   "metadata": {},
   "source": [
    "\n",
    "The search range in the query spans over twelve weeks (from 2024-01-01 to 2024-01-04),for the program to fetch all the tweets at once, it would take a long time(-about 12 hours). To avoid this, a function was created which would take in the start date, end date and the directory to save the output, and return a dataframe of the scraped tweets.\n",
    "\n",
    "The function is defined using async def. This is because twscrape uses a __coroutine function__ to scrape tweets, so using the regular def for defining regular python functions will not work. i.e. async def is used to define coroutine functions in python."
   ]
  },
  {
   "cell_type": "code",
   "execution_count": 5,
   "metadata": {},
   "outputs": [],
   "source": [
    "async def scrape_tweets(company, start_date, end_date):\n",
    "    \n",
    "    data = []  #create an empty list to be used to store the search results\n",
    "    \n",
    "    #define the search query. Include start date and end date\n",
    "    q = f\"${company} until:{end_date} since:{start_date} lang:en\" \n",
    "    save_to_file = f\"twitter_data/{company}_{start_date}-{end_date}\"\n",
    "    \n",
    "    async for tweet in api.search(q, limit=300000): #iterate over the search results\n",
    "        c = [tweet.id, tweet.date, tweet.rawContent, tweet.likeCount, tweet.retweetCount, tweet.user.location] #list of attributes to return \n",
    "        data.append(c)  #add each new list of attributes to 'data'\n",
    "    \n",
    "    df = pd.DataFrame(data, columns=['Tweet_ID', 'Time_Created', 'Text', 'Likes', 'Retweets', 'Location']) #convert the list to a dataframe\n",
    "    df.to_csv(save_to_file, index = False) #save to a chosen directory on the computer\n",
    "    return df"
   ]
  },
  {
   "cell_type": "code",
   "execution_count": 6,
   "metadata": {},
   "outputs": [
    {
     "data": {
      "text/html": [
       "<div>\n",
       "<style scoped>\n",
       "    .dataframe tbody tr th:only-of-type {\n",
       "        vertical-align: middle;\n",
       "    }\n",
       "\n",
       "    .dataframe tbody tr th {\n",
       "        vertical-align: top;\n",
       "    }\n",
       "\n",
       "    .dataframe thead th {\n",
       "        text-align: right;\n",
       "    }\n",
       "</style>\n",
       "<table border=\"1\" class=\"dataframe\">\n",
       "  <thead>\n",
       "    <tr style=\"text-align: right;\">\n",
       "      <th></th>\n",
       "      <th>Tweet_ID</th>\n",
       "      <th>Time_Created</th>\n",
       "      <th>Text</th>\n",
       "      <th>Likes</th>\n",
       "      <th>Retweets</th>\n",
       "      <th>Location</th>\n",
       "    </tr>\n",
       "  </thead>\n",
       "  <tbody>\n",
       "    <tr>\n",
       "      <th>0</th>\n",
       "      <td>1741971821996707934</td>\n",
       "      <td>2024-01-01 23:57:01+00:00</td>\n",
       "      <td>$BTC Hit 44,150\\n\\nRemember: The ONLY portfoli...</td>\n",
       "      <td>1</td>\n",
       "      <td>0</td>\n",
       "      <td>Discord:  ImpactfulTrader#2317</td>\n",
       "    </tr>\n",
       "    <tr>\n",
       "      <th>1</th>\n",
       "      <td>1741965702700097931</td>\n",
       "      <td>2024-01-01 23:32:42+00:00</td>\n",
       "      <td>$BTC I gave Profit Target before price got the...</td>\n",
       "      <td>4</td>\n",
       "      <td>1</td>\n",
       "      <td>Discord:  ImpactfulTrader#2317</td>\n",
       "    </tr>\n",
       "    <tr>\n",
       "      <th>2</th>\n",
       "      <td>1741971250354721272</td>\n",
       "      <td>2024-01-01 23:54:45+00:00</td>\n",
       "      <td>@zerohedge @zerohedge \\n$META  $GOOGL $AMZN $M...</td>\n",
       "      <td>0</td>\n",
       "      <td>0</td>\n",
       "      <td>Borderless</td>\n",
       "    </tr>\n",
       "    <tr>\n",
       "      <th>3</th>\n",
       "      <td>1741971091327709350</td>\n",
       "      <td>2024-01-01 23:54:07+00:00</td>\n",
       "      <td>$MULN will PARABOLIC next week 10000X incoming...</td>\n",
       "      <td>0</td>\n",
       "      <td>0</td>\n",
       "      <td>Milky Way</td>\n",
       "    </tr>\n",
       "    <tr>\n",
       "      <th>4</th>\n",
       "      <td>1741388323216658564</td>\n",
       "      <td>2023-12-31 09:18:24+00:00</td>\n",
       "      <td>@Tony_Denaro Tony, what’s your thoughts on MUL...</td>\n",
       "      <td>2</td>\n",
       "      <td>0</td>\n",
       "      <td></td>\n",
       "    </tr>\n",
       "    <tr>\n",
       "      <th>...</th>\n",
       "      <td>...</td>\n",
       "      <td>...</td>\n",
       "      <td>...</td>\n",
       "      <td>...</td>\n",
       "      <td>...</td>\n",
       "      <td>...</td>\n",
       "    </tr>\n",
       "    <tr>\n",
       "      <th>633</th>\n",
       "      <td>1741611770790428822</td>\n",
       "      <td>2024-01-01 00:06:18+00:00</td>\n",
       "      <td>$SPY Study Material I just put together for yo...</td>\n",
       "      <td>4</td>\n",
       "      <td>1</td>\n",
       "      <td>Discord:  ImpactfulTrader#2317</td>\n",
       "    </tr>\n",
       "    <tr>\n",
       "      <th>634</th>\n",
       "      <td>1741611370309963847</td>\n",
       "      <td>2024-01-01 00:04:42+00:00</td>\n",
       "      <td>“Most winning trading community, Get next winn...</td>\n",
       "      <td>0</td>\n",
       "      <td>0</td>\n",
       "      <td></td>\n",
       "    </tr>\n",
       "    <tr>\n",
       "      <th>635</th>\n",
       "      <td>1741610940041482422</td>\n",
       "      <td>2024-01-01 00:03:00+00:00</td>\n",
       "      <td>#NewYear 🎄\\nI wish everyone a happy, healthy a...</td>\n",
       "      <td>3</td>\n",
       "      <td>2</td>\n",
       "      <td>San Francisco, CA</td>\n",
       "    </tr>\n",
       "    <tr>\n",
       "      <th>636</th>\n",
       "      <td>1741610893933441225</td>\n",
       "      <td>2024-01-01 00:02:49+00:00</td>\n",
       "      <td>ALWAYS zoom out the chart to see what’s really...</td>\n",
       "      <td>0</td>\n",
       "      <td>0</td>\n",
       "      <td></td>\n",
       "    </tr>\n",
       "    <tr>\n",
       "      <th>637</th>\n",
       "      <td>1741610218797080965</td>\n",
       "      <td>2024-01-01 00:00:08+00:00</td>\n",
       "      <td>Glad I signed up for the 14-day FREE trial! Ba...</td>\n",
       "      <td>1</td>\n",
       "      <td>0</td>\n",
       "      <td></td>\n",
       "    </tr>\n",
       "  </tbody>\n",
       "</table>\n",
       "<p>638 rows × 6 columns</p>\n",
       "</div>"
      ],
      "text/plain": [
       "                Tweet_ID              Time_Created  \\\n",
       "0    1741971821996707934 2024-01-01 23:57:01+00:00   \n",
       "1    1741965702700097931 2024-01-01 23:32:42+00:00   \n",
       "2    1741971250354721272 2024-01-01 23:54:45+00:00   \n",
       "3    1741971091327709350 2024-01-01 23:54:07+00:00   \n",
       "4    1741388323216658564 2023-12-31 09:18:24+00:00   \n",
       "..                   ...                       ...   \n",
       "633  1741611770790428822 2024-01-01 00:06:18+00:00   \n",
       "634  1741611370309963847 2024-01-01 00:04:42+00:00   \n",
       "635  1741610940041482422 2024-01-01 00:03:00+00:00   \n",
       "636  1741610893933441225 2024-01-01 00:02:49+00:00   \n",
       "637  1741610218797080965 2024-01-01 00:00:08+00:00   \n",
       "\n",
       "                                                  Text  Likes  Retweets  \\\n",
       "0    $BTC Hit 44,150\\n\\nRemember: The ONLY portfoli...      1         0   \n",
       "1    $BTC I gave Profit Target before price got the...      4         1   \n",
       "2    @zerohedge @zerohedge \\n$META  $GOOGL $AMZN $M...      0         0   \n",
       "3    $MULN will PARABOLIC next week 10000X incoming...      0         0   \n",
       "4    @Tony_Denaro Tony, what’s your thoughts on MUL...      2         0   \n",
       "..                                                 ...    ...       ...   \n",
       "633  $SPY Study Material I just put together for yo...      4         1   \n",
       "634  “Most winning trading community, Get next winn...      0         0   \n",
       "635  #NewYear 🎄\\nI wish everyone a happy, healthy a...      3         2   \n",
       "636  ALWAYS zoom out the chart to see what’s really...      0         0   \n",
       "637  Glad I signed up for the 14-day FREE trial! Ba...      1         0   \n",
       "\n",
       "                           Location  \n",
       "0    Discord:  ImpactfulTrader#2317  \n",
       "1    Discord:  ImpactfulTrader#2317  \n",
       "2                        Borderless  \n",
       "3                         Milky Way  \n",
       "4                                    \n",
       "..                              ...  \n",
       "633  Discord:  ImpactfulTrader#2317  \n",
       "634                                  \n",
       "635               San Francisco, CA  \n",
       "636                                  \n",
       "637                                  \n",
       "\n",
       "[638 rows x 6 columns]"
      ]
     },
     "execution_count": 6,
     "metadata": {},
     "output_type": "execute_result"
    }
   ],
   "source": [
    "# This is an example of how the function works\n",
    "nvidia_tweets = await scrape_tweets(\"NVDA\", \"2024-01-01\", \"2024-01-02\")\n",
    "nvidia_tweets"
   ]
  },
  {
   "cell_type": "markdown",
   "metadata": {},
   "source": [
    "#### Data Cleaning"
   ]
  },
  {
   "cell_type": "code",
   "execution_count": 7,
   "metadata": {},
   "outputs": [
    {
     "data": {
      "text/html": [
       "<div>\n",
       "<style scoped>\n",
       "    .dataframe tbody tr th:only-of-type {\n",
       "        vertical-align: middle;\n",
       "    }\n",
       "\n",
       "    .dataframe tbody tr th {\n",
       "        vertical-align: top;\n",
       "    }\n",
       "\n",
       "    .dataframe thead th {\n",
       "        text-align: right;\n",
       "    }\n",
       "</style>\n",
       "<table border=\"1\" class=\"dataframe\">\n",
       "  <thead>\n",
       "    <tr style=\"text-align: right;\">\n",
       "      <th></th>\n",
       "      <th>Tweet_ID</th>\n",
       "      <th>Time_Created</th>\n",
       "      <th>Text</th>\n",
       "      <th>Likes</th>\n",
       "      <th>Retweets</th>\n",
       "      <th>Location</th>\n",
       "    </tr>\n",
       "  </thead>\n",
       "  <tbody>\n",
       "    <tr>\n",
       "      <th>0</th>\n",
       "      <td>1741971821996707934</td>\n",
       "      <td>2024-01-01 23:57:01+00:00</td>\n",
       "      <td>$BTC Hit 44,150\\n\\nRemember: The ONLY portfoli...</td>\n",
       "      <td>1</td>\n",
       "      <td>0</td>\n",
       "      <td>Discord:  ImpactfulTrader#2317</td>\n",
       "    </tr>\n",
       "    <tr>\n",
       "      <th>1</th>\n",
       "      <td>1741965702700097931</td>\n",
       "      <td>2024-01-01 23:32:42+00:00</td>\n",
       "      <td>$BTC I gave Profit Target before price got the...</td>\n",
       "      <td>4</td>\n",
       "      <td>1</td>\n",
       "      <td>Discord:  ImpactfulTrader#2317</td>\n",
       "    </tr>\n",
       "    <tr>\n",
       "      <th>2</th>\n",
       "      <td>1741971250354721272</td>\n",
       "      <td>2024-01-01 23:54:45+00:00</td>\n",
       "      <td>@zerohedge @zerohedge \\n$META  $GOOGL $AMZN $M...</td>\n",
       "      <td>0</td>\n",
       "      <td>0</td>\n",
       "      <td>Borderless</td>\n",
       "    </tr>\n",
       "    <tr>\n",
       "      <th>3</th>\n",
       "      <td>1741971091327709350</td>\n",
       "      <td>2024-01-01 23:54:07+00:00</td>\n",
       "      <td>$MULN will PARABOLIC next week 10000X incoming...</td>\n",
       "      <td>0</td>\n",
       "      <td>0</td>\n",
       "      <td>Milky Way</td>\n",
       "    </tr>\n",
       "    <tr>\n",
       "      <th>4</th>\n",
       "      <td>1741388323216658564</td>\n",
       "      <td>2023-12-31 09:18:24+00:00</td>\n",
       "      <td>@Tony_Denaro Tony, what’s your thoughts on MUL...</td>\n",
       "      <td>2</td>\n",
       "      <td>0</td>\n",
       "      <td>NaN</td>\n",
       "    </tr>\n",
       "  </tbody>\n",
       "</table>\n",
       "</div>"
      ],
      "text/plain": [
       "              Tweet_ID               Time_Created  \\\n",
       "0  1741971821996707934  2024-01-01 23:57:01+00:00   \n",
       "1  1741965702700097931  2024-01-01 23:32:42+00:00   \n",
       "2  1741971250354721272  2024-01-01 23:54:45+00:00   \n",
       "3  1741971091327709350  2024-01-01 23:54:07+00:00   \n",
       "4  1741388323216658564  2023-12-31 09:18:24+00:00   \n",
       "\n",
       "                                                Text  Likes  Retweets  \\\n",
       "0  $BTC Hit 44,150\\n\\nRemember: The ONLY portfoli...      1         0   \n",
       "1  $BTC I gave Profit Target before price got the...      4         1   \n",
       "2  @zerohedge @zerohedge \\n$META  $GOOGL $AMZN $M...      0         0   \n",
       "3  $MULN will PARABOLIC next week 10000X incoming...      0         0   \n",
       "4  @Tony_Denaro Tony, what’s your thoughts on MUL...      2         0   \n",
       "\n",
       "                         Location  \n",
       "0  Discord:  ImpactfulTrader#2317  \n",
       "1  Discord:  ImpactfulTrader#2317  \n",
       "2                      Borderless  \n",
       "3                       Milky Way  \n",
       "4                             NaN  "
      ]
     },
     "execution_count": 7,
     "metadata": {},
     "output_type": "execute_result"
    }
   ],
   "source": [
    "# Create an identifier containing the path to the folder\n",
    "folder = \"twitter_data\"\n",
    "\n",
    "# Read each file into a dataframe and store them in a list\n",
    "dfs = []\n",
    "count = 0\n",
    "for file_name in os.listdir(folder):\n",
    "    file_path = os.path.join(folder, file_name)\n",
    "    df = pd.read_csv(file_path)\n",
    "    dfs.append(df)\n",
    "    \n",
    "# Merge the dataframes \n",
    "tweets = pd.concat(dfs, axis=0, ignore_index=True)  \n",
    "tweets.head()\n"
   ]
  },
  {
   "cell_type": "code",
   "execution_count": 8,
   "metadata": {},
   "outputs": [
    {
     "data": {
      "text/plain": [
       "(287697, 6)"
      ]
     },
     "execution_count": 8,
     "metadata": {},
     "output_type": "execute_result"
    }
   ],
   "source": [
    "tweets.shape"
   ]
  },
  {
   "cell_type": "code",
   "execution_count": 9,
   "metadata": {},
   "outputs": [
    {
     "data": {
      "text/plain": [
       "(270337, 6)"
      ]
     },
     "execution_count": 9,
     "metadata": {},
     "output_type": "execute_result"
    }
   ],
   "source": [
    "# Dropping duplicates\n",
    "tweets = tweets.drop_duplicates(subset=['Tweet_ID'], keep='first').reset_index(drop=True)\n",
    "tweets.shape"
   ]
  },
  {
   "cell_type": "code",
   "execution_count": 10,
   "metadata": {},
   "outputs": [
    {
     "data": {
      "text/plain": [
       "Tweet_ID             0\n",
       "Time_Created         0\n",
       "Text                 0\n",
       "Likes                0\n",
       "Retweets             0\n",
       "Location        116479\n",
       "dtype: int64"
      ]
     },
     "execution_count": 10,
     "metadata": {},
     "output_type": "execute_result"
    }
   ],
   "source": [
    "# Return the number of missing values in each column of the dataset\n",
    "tweets.isnull().sum()"
   ]
  },
  {
   "cell_type": "markdown",
   "metadata": {},
   "source": [
    "The location attribute was not very useful since around 50% of its values were missing. Additionaly, location is just a string entered by the users and is not always an actual place. Many enteries in this dataframe also had location attribute values like \"Milky Way\" and other jokes. For these reasons, the location attribute was dropped."
   ]
  },
  {
   "cell_type": "code",
   "execution_count": 11,
   "metadata": {},
   "outputs": [
    {
     "data": {
      "text/html": [
       "<div>\n",
       "<style scoped>\n",
       "    .dataframe tbody tr th:only-of-type {\n",
       "        vertical-align: middle;\n",
       "    }\n",
       "\n",
       "    .dataframe tbody tr th {\n",
       "        vertical-align: top;\n",
       "    }\n",
       "\n",
       "    .dataframe thead th {\n",
       "        text-align: right;\n",
       "    }\n",
       "</style>\n",
       "<table border=\"1\" class=\"dataframe\">\n",
       "  <thead>\n",
       "    <tr style=\"text-align: right;\">\n",
       "      <th></th>\n",
       "      <th>Tweet_ID</th>\n",
       "      <th>Time_Created</th>\n",
       "      <th>Text</th>\n",
       "      <th>Likes</th>\n",
       "      <th>Retweets</th>\n",
       "    </tr>\n",
       "  </thead>\n",
       "  <tbody>\n",
       "    <tr>\n",
       "      <th>0</th>\n",
       "      <td>1741971821996707934</td>\n",
       "      <td>2024-01-01 23:57:01+00:00</td>\n",
       "      <td>$BTC Hit 44,150\\n\\nRemember: The ONLY portfoli...</td>\n",
       "      <td>1</td>\n",
       "      <td>0</td>\n",
       "    </tr>\n",
       "    <tr>\n",
       "      <th>1</th>\n",
       "      <td>1741965702700097931</td>\n",
       "      <td>2024-01-01 23:32:42+00:00</td>\n",
       "      <td>$BTC I gave Profit Target before price got the...</td>\n",
       "      <td>4</td>\n",
       "      <td>1</td>\n",
       "    </tr>\n",
       "    <tr>\n",
       "      <th>2</th>\n",
       "      <td>1741971250354721272</td>\n",
       "      <td>2024-01-01 23:54:45+00:00</td>\n",
       "      <td>@zerohedge @zerohedge \\n$META  $GOOGL $AMZN $M...</td>\n",
       "      <td>0</td>\n",
       "      <td>0</td>\n",
       "    </tr>\n",
       "    <tr>\n",
       "      <th>3</th>\n",
       "      <td>1741971091327709350</td>\n",
       "      <td>2024-01-01 23:54:07+00:00</td>\n",
       "      <td>$MULN will PARABOLIC next week 10000X incoming...</td>\n",
       "      <td>0</td>\n",
       "      <td>0</td>\n",
       "    </tr>\n",
       "    <tr>\n",
       "      <th>4</th>\n",
       "      <td>1741388323216658564</td>\n",
       "      <td>2023-12-31 09:18:24+00:00</td>\n",
       "      <td>@Tony_Denaro Tony, what’s your thoughts on MUL...</td>\n",
       "      <td>2</td>\n",
       "      <td>0</td>\n",
       "    </tr>\n",
       "  </tbody>\n",
       "</table>\n",
       "</div>"
      ],
      "text/plain": [
       "              Tweet_ID               Time_Created  \\\n",
       "0  1741971821996707934  2024-01-01 23:57:01+00:00   \n",
       "1  1741965702700097931  2024-01-01 23:32:42+00:00   \n",
       "2  1741971250354721272  2024-01-01 23:54:45+00:00   \n",
       "3  1741971091327709350  2024-01-01 23:54:07+00:00   \n",
       "4  1741388323216658564  2023-12-31 09:18:24+00:00   \n",
       "\n",
       "                                                Text  Likes  Retweets  \n",
       "0  $BTC Hit 44,150\\n\\nRemember: The ONLY portfoli...      1         0  \n",
       "1  $BTC I gave Profit Target before price got the...      4         1  \n",
       "2  @zerohedge @zerohedge \\n$META  $GOOGL $AMZN $M...      0         0  \n",
       "3  $MULN will PARABOLIC next week 10000X incoming...      0         0  \n",
       "4  @Tony_Denaro Tony, what’s your thoughts on MUL...      2         0  "
      ]
     },
     "execution_count": 11,
     "metadata": {},
     "output_type": "execute_result"
    }
   ],
   "source": [
    "# Drop the location attribute\n",
    "tweets  = tweets.drop(\"Location\", axis = 1)\n",
    "tweets.head()"
   ]
  },
  {
   "cell_type": "markdown",
   "metadata": {},
   "source": [
    "The __'Time_Created'__ attribute contained a timestamp in the ISO 8601 standard notation. It contained information like, time and UTC offset which were not required for this project. Hence, the attribute was converted to dates."
   ]
  },
  {
   "cell_type": "code",
   "execution_count": 12,
   "metadata": {},
   "outputs": [
    {
     "data": {
      "text/html": [
       "<div>\n",
       "<style scoped>\n",
       "    .dataframe tbody tr th:only-of-type {\n",
       "        vertical-align: middle;\n",
       "    }\n",
       "\n",
       "    .dataframe tbody tr th {\n",
       "        vertical-align: top;\n",
       "    }\n",
       "\n",
       "    .dataframe thead th {\n",
       "        text-align: right;\n",
       "    }\n",
       "</style>\n",
       "<table border=\"1\" class=\"dataframe\">\n",
       "  <thead>\n",
       "    <tr style=\"text-align: right;\">\n",
       "      <th></th>\n",
       "      <th>Tweet_ID</th>\n",
       "      <th>Time_Created</th>\n",
       "      <th>Text</th>\n",
       "      <th>Likes</th>\n",
       "      <th>Retweets</th>\n",
       "    </tr>\n",
       "  </thead>\n",
       "  <tbody>\n",
       "    <tr>\n",
       "      <th>0</th>\n",
       "      <td>1741971821996707934</td>\n",
       "      <td>2024-01-01</td>\n",
       "      <td>$BTC Hit 44,150\\n\\nRemember: The ONLY portfoli...</td>\n",
       "      <td>1</td>\n",
       "      <td>0</td>\n",
       "    </tr>\n",
       "    <tr>\n",
       "      <th>1</th>\n",
       "      <td>1741965702700097931</td>\n",
       "      <td>2024-01-01</td>\n",
       "      <td>$BTC I gave Profit Target before price got the...</td>\n",
       "      <td>4</td>\n",
       "      <td>1</td>\n",
       "    </tr>\n",
       "    <tr>\n",
       "      <th>2</th>\n",
       "      <td>1741971250354721272</td>\n",
       "      <td>2024-01-01</td>\n",
       "      <td>@zerohedge @zerohedge \\n$META  $GOOGL $AMZN $M...</td>\n",
       "      <td>0</td>\n",
       "      <td>0</td>\n",
       "    </tr>\n",
       "    <tr>\n",
       "      <th>3</th>\n",
       "      <td>1741971091327709350</td>\n",
       "      <td>2024-01-01</td>\n",
       "      <td>$MULN will PARABOLIC next week 10000X incoming...</td>\n",
       "      <td>0</td>\n",
       "      <td>0</td>\n",
       "    </tr>\n",
       "    <tr>\n",
       "      <th>4</th>\n",
       "      <td>1741388323216658564</td>\n",
       "      <td>2023-12-31</td>\n",
       "      <td>@Tony_Denaro Tony, what’s your thoughts on MUL...</td>\n",
       "      <td>2</td>\n",
       "      <td>0</td>\n",
       "    </tr>\n",
       "  </tbody>\n",
       "</table>\n",
       "</div>"
      ],
      "text/plain": [
       "              Tweet_ID Time_Created  \\\n",
       "0  1741971821996707934   2024-01-01   \n",
       "1  1741965702700097931   2024-01-01   \n",
       "2  1741971250354721272   2024-01-01   \n",
       "3  1741971091327709350   2024-01-01   \n",
       "4  1741388323216658564   2023-12-31   \n",
       "\n",
       "                                                Text  Likes  Retweets  \n",
       "0  $BTC Hit 44,150\\n\\nRemember: The ONLY portfoli...      1         0  \n",
       "1  $BTC I gave Profit Target before price got the...      4         1  \n",
       "2  @zerohedge @zerohedge \\n$META  $GOOGL $AMZN $M...      0         0  \n",
       "3  $MULN will PARABOLIC next week 10000X incoming...      0         0  \n",
       "4  @Tony_Denaro Tony, what’s your thoughts on MUL...      2         0  "
      ]
     },
     "execution_count": 12,
     "metadata": {},
     "output_type": "execute_result"
    }
   ],
   "source": [
    "# Convert the time created attribute to dates \n",
    "tweets['Time_Created'] = pd.to_datetime(tweets['Time_Created']).dt.date\n",
    "tweets.head()"
   ]
  },
  {
   "cell_type": "markdown",
   "metadata": {},
   "source": [
    "Any tweets that were fetched but lied outside the dersired range were removed"
   ]
  },
  {
   "cell_type": "code",
   "execution_count": 13,
   "metadata": {},
   "outputs": [
    {
     "data": {
      "text/plain": [
       "(269209, 5)"
      ]
     },
     "execution_count": 13,
     "metadata": {},
     "output_type": "execute_result"
    }
   ],
   "source": [
    "# Define the start and end dates of the range\n",
    "start_date = date(2024, 1, 1)\n",
    "end_date = date(2024, 3, 31)\n",
    "# Filter the DataFrame based on the date range\n",
    "filtered_tweets = tweets[(tweets['Time_Created'] >= start_date) & (tweets['Time_Created'] <= end_date)]\n",
    "filtered_tweets.shape"
   ]
  },
  {
   "cell_type": "code",
   "execution_count": 14,
   "metadata": {},
   "outputs": [],
   "source": [
    "# This function is used to pass the POS tag for each word passed through clean_text function\n",
    "def get_wordnet_pos(word):\n",
    "    \"\"\"Map POS tag to first character lemmatize() accepts\"\"\"\n",
    "    tag = pos_tag([word])[0][1][0].upper()\n",
    "    tag_dict = {\"J\": wordnet.ADJ,\n",
    "                \"N\": wordnet.NOUN,\n",
    "                \"V\": wordnet.VERB,\n",
    "                \"R\": wordnet.ADV}\n",
    "\n",
    "    return tag_dict.get(tag, wordnet.NOUN)"
   ]
  },
  {
   "cell_type": "markdown",
   "metadata": {},
   "source": [
    "The following function was used to clean the tweets and make them more suitable to be used as an input in the sentiment analysis model. The function makes use of libraries like __re__ (A python library used for regular expressions) and __nltk__ (A python library used for NLP tasks)"
   ]
  },
  {
   "cell_type": "code",
   "execution_count": 15,
   "metadata": {},
   "outputs": [],
   "source": [
    "# Cleaning tweets\n",
    "def clean_text(text):\n",
    "    # Initialization the twitter tokenizer\n",
    "    tk = TweetTokenizer(preserve_case=False, strip_handles=True,reduce_len=True) \n",
    "    # Initialization the lemmatizer\n",
    "    lemmatizer = WordNetLemmatizer()  \n",
    "    # Trying to avoid deleting the negative verbs as it affects the meaning of the tweets.\n",
    "    stop_words = stopwords.words('english') + [\"i'll\",\"i'm\", \"should\", \"could\"]\n",
    "    negative_verbs = [ \"shan't\",'shouldn',\"shouldn't\",'wasn','weren','won','wouldn','aren','couldn','didn','doesn','hadn','hasn','haven','isn','ma','mightn','mustn',\"mustn't\",'needn',\"needn't\",\"wouldn't\",\"won't\",\"weren't\",\"wasn't\",\"couldn\",\"not\",\"nor\",\"no\",\"mightn't\",\"isn't\",\"haven't\",\"hadn't\",\"hasn't\",\"didn't\",\"doesn't\",\"aren't\",\"don't\",\"couldn't\",\"never\"]\n",
    "    stop_words =[word for word in stop_words if word not in negative_verbs ] \n",
    "    \n",
    "    # Lowering tweets\n",
    "    lower_tweet = text.lower() \n",
    "    # Removing hashtag and cashtag symbols\n",
    "    tweet = re.sub(r\"[#$]\",\" \",lower_tweet)\n",
    "    # Removing links from tweets\n",
    "    tweet = re.sub(r\"https?:\\/\\/.*[\\r\\n]*\",\" \", tweet)\n",
    "    # Translating emojies into thier descriptions\n",
    "    tweet = demoji.replace_with_desc(tweet)\n",
    "    # removing numerical values\n",
    "    tweet = re.sub(r\"[0-9]|-->\",\"\",tweet)\n",
    "    # Tokenize the tweets by twitter tokenzier.\n",
    "    tweet = tk.tokenize(tweet)\n",
    "    # Choosing the words that don't exist in stopwords, thier lengths are more than 2 letters and then lemmatize them.\n",
    "    tweet = [lemmatizer.lemmatize(word, get_wordnet_pos(word)) for word in tweet if word not in stop_words and word not in string.punctuation and len(word)>2 and \".\" not in word]\n",
    "    # return the tokens in one sentence \n",
    "    tweet = \" \".join(tweet)\n",
    "    \n",
    "    return tweet"
   ]
  },
  {
   "cell_type": "code",
   "execution_count": null,
   "metadata": {},
   "outputs": [],
   "source": [
    "# Applying text cleaning \n",
    "filtered_tweets['cleaned'] = filtered_tweets[\"Text\"].apply(lambda row:clean_text(row))\n",
    "# Sorting the dataframe based on 'Time_Created'\n",
    "filtered_tweets.sort_values(by = 'Time_Created', inplace = True)\n",
    "# Saving to a csv file\n",
    "filtered_tweets.to_csv(\"twitter_data/NVDA_final-tweets\")\n",
    "print(\"Filtered tweets added to the folder\")"
   ]
  },
  {
   "cell_type": "markdown",
   "metadata": {},
   "source": [
    "#### Sentiment Analysis"
   ]
  },
  {
   "cell_type": "markdown",
   "metadata": {},
   "source": [
    "__RoBERTa__ stands for \"A Robustly Optimized BERT Pretraining Approach.\" It's a variant of the BERT (Bidirectional Encoder Representations from Transformers). The reasons it is used commonly for sentiment analysis are:\n",
    "-  RoBERTa's ability to understand context and capture nuanced semantics makes it effective for sentiment analysis tasks where context plays a crucial role in determining sentiment (e.g., understanding sarcasm, negation, or sentiment shift within a sentence).\n",
    "- RoBERTa can be fine-tuned on sentiment analysis datasets, where the model learns to predict sentiment labels (e.g., positive, negative, neutral) based on text inputs. Fine-tuning allows RoBERTa to adapt its pre-trained knowledge to specific sentiment analysis tasks, leading to improved accuracy and performance.\n",
    "\n",
    "The model that has been used for sentiment analysis is the Twitter roBERTa model that is available at this [link](https://huggingface.co/cardiffnlp/twitter-roberta-base-sentiment-latest)<br>\n",
    "This model that been trained on over 124 million tweets from the time period of January 2018 to December 2021, making it a great fit for the project \n"
   ]
  },
  {
   "cell_type": "code",
   "execution_count": 17,
   "metadata": {},
   "outputs": [
    {
     "name": "stderr",
     "output_type": "stream",
     "text": [
      "Some weights of the model checkpoint at cardiffnlp/twitter-roberta-base-sentiment-latest were not used when initializing RobertaForSequenceClassification: ['roberta.pooler.dense.bias', 'roberta.pooler.dense.weight']\n",
      "- This IS expected if you are initializing RobertaForSequenceClassification from the checkpoint of a model trained on another task or with another architecture (e.g. initializing a BertForSequenceClassification model from a BertForPreTraining model).\n",
      "- This IS NOT expected if you are initializing RobertaForSequenceClassification from the checkpoint of a model that you expect to be exactly identical (initializing a BertForSequenceClassification model from a BertForSequenceClassification model).\n"
     ]
    }
   ],
   "source": [
    "MODEL = \"cardiffnlp/twitter-roberta-base-sentiment-latest\"\n",
    "tokenizer = AutoTokenizer.from_pretrained(MODEL)\n",
    "config = AutoConfig.from_pretrained(MODEL)\n",
    "# PT\n",
    "model = AutoModelForSequenceClassification.from_pretrained(MODEL)"
   ]
  },
  {
   "cell_type": "markdown",
   "metadata": {},
   "source": [
    "The __Softmax__ function is a mathematical function that converts a vector of numbers into a probability distribution.\n",
    "Given an input vector z=[$z_1$,$z_2$,...,$z_n$] , the softmax function computes the probability $p_i$​ for each element $z_i$ as follows:\n",
    "$$ p_i = \\frac{e^{z_i}}{\\sum_{j=1}^{n} e^{z_j}} $$\n",
    "\n",
    "Where:\n",
    "- e is the base of the natural logarithm.\n",
    "- $z_i$ is the i-th element of the input vector.\n",
    "- $​{\\sum_{j=1}^{n} e^{z_j}}$ is the sum of the exponentiated values of all elements in the input vector.\n",
    "\n",
    "<br>It has been used here as the activation function because:\n",
    "- The softmax function is well-suited for sentiment analysis because it produces output probabilities that represent the likelihood of each class, allowing the model to make predictions across multiple classes.\n",
    "- Softmax ensures that the output probabilities sum up to 1, forming a valid probability distribution.\n",
    "- Softmax is a differentiable function, which means that gradients can be computed with respect to its inputs. This property is crucial for training the RoBERTa model using gradient-based optimization algorithms \n"
   ]
  },
  {
   "cell_type": "code",
   "execution_count": 18,
   "metadata": {},
   "outputs": [],
   "source": [
    "def sentiment_analysis(text):\n",
    "    encoded_input = tokenizer(text, return_tensors='pt',truncation=True, max_length=512)\n",
    "    output = model(**encoded_input)\n",
    "    scores = output[0][0].detach().numpy()\n",
    "    scores = softmax(scores)\n",
    "    return scores.argmax()"
   ]
  },
  {
   "cell_type": "code",
   "execution_count": 19,
   "metadata": {},
   "outputs": [
    {
     "name": "stdout",
     "output_type": "stream",
     "text": [
      "For a positive statement : 2\n",
      "For a neutral statement : 1\n",
      "For a negative statement : 0\n"
     ]
    }
   ],
   "source": [
    "#This is a sample run\n",
    "print(f'For a positive statement : {sentiment_analysis(\"I like these stocks\")}')\n",
    "print(f'For a neutral statement : {sentiment_analysis(\"I do not know about these stocks\")}')\n",
    "print(f'For a negative statement : {sentiment_analysis(\"I hate these stocks\")}')"
   ]
  },
  {
   "cell_type": "markdown",
   "metadata": {},
   "source": [
    "The function was then applied to all the tweets in the data set with the following code:\n",
    "<pre>\n",
    "#tqdm was used here to get a progress bar for the sentiment analysis\n",
    "tqdm.pandas()\n",
    "filtered_tweets['cleaned'] = tweets['cleaned'].fillna(\"\")\n",
    "tweets['sentiment'] = tweets['cleaned'].progress_apply(lambda x: sentiment_analysis(x))\n",
    "tweets.to_csv('analysed_tweets.csv')</pre>\n",
    "The code has not been executed in the notebook as its execution takes around 6 hours"
   ]
  },
  {
   "cell_type": "markdown",
   "metadata": {},
   "source": [
    "#### Vizualization"
   ]
  },
  {
   "cell_type": "code",
   "execution_count": 7,
   "metadata": {},
   "outputs": [
    {
     "data": {
      "application/vnd.microsoft.datawrangler.viewer.v0+json": {
       "columns": [
        {
         "name": "index",
         "rawType": "int64",
         "type": "integer"
        },
        {
         "name": "Tweet_ID",
         "rawType": "int64",
         "type": "integer"
        },
        {
         "name": "Time_Created",
         "rawType": "object",
         "type": "string"
        },
        {
         "name": "Text",
         "rawType": "object",
         "type": "string"
        },
        {
         "name": "Likes",
         "rawType": "int64",
         "type": "integer"
        },
        {
         "name": "Retweets",
         "rawType": "int64",
         "type": "integer"
        },
        {
         "name": "cleaned",
         "rawType": "object",
         "type": "string"
        },
        {
         "name": "sentiment",
         "rawType": "int64",
         "type": "integer"
        }
       ],
       "conversionMethod": "pd.DataFrame",
       "ref": "9529d2d1-c883-4ff7-8371-c78225292cc0",
       "rows": [
        [
         "0",
         "1741926827688681728",
         "2024-01-01",
         "Our analyst called the PUMP on $FLJ, securing our FREE trial members 111% in GAINS!\n\n$SNTG $CGA $INBX $RNXT $EKSO $CXDO $CRGX $TSLA $NVDA $MARA $AMD $AAPL $AMZN https://t.co/OWXd3SRBXN",
         "0",
         "0",
         "analyst call pump flj secure free trial member gain sntg cga inbx rnxt ekso cxdo crgx tsla nvda mara amd aapl amzn",
         "1"
        ],
        [
         "1",
         "1741855632767004892",
         "2024-01-01",
         "Stocks Performance Upto 1Y\n\nEverything is awesome\n\n$TSLA $NVDA $AAPL $MSFT $META $LLY $NFLX $PLTR $QQQ $NVO $AMZN $RIVN $PYPL $AMD $UNH $SCHW $GOOG $GM $F $ENPH $CVNA $KO $TXN $AI $AMC $COIN $DIS $GME $LAZR $JNJ $LCID $MRK $ORCL $PANW $PLUG $QCOM $ROKU $SPY $VFS \n\n#stocks https://t.co/kAuiCE8Tly",
         "0",
         "0",
         "stock performance upto everything awesome tsla nvda aapl msft meta lly nflx pltr qqq nvo amzn rivn pypl amd unh schw goog enph cvna txn amc coin dis gme lazr jnj lcid mrk orcl panw plug qcom roku spy vfs stock",
         "2"
        ],
        [
         "2",
         "1741856010761802082",
         "2024-01-01",
         "Were you invested in $NVDA pre 2021? \n\nIf the answer is yes, what did you see that made you think there was a good opportunity?\n\n#Nvidia",
         "14",
         "2",
         "invest nvda pre answer yes see make think good opportunity nvidia",
         "2"
        ],
        [
         "3",
         "1741856822917513633",
         "2024-01-01",
         "Top 3 Bearish Sentiment Cryptos: CROWD\n\n 🟥 $NVDA $COIN $MARA\n    \nCheck out sentiment and other crypto stats at https://t.co/HQDyBNuzek\n#crypto #cryptotrading #CryptoX",
         "0",
         "0",
         "top bearish sentiment cryptos crowd red square nvda coin mara check sentiment crypto stats crypto cryptotrading cryptox",
         "1"
        ],
        [
         "4",
         "1741856927926100073",
         "2024-01-01",
         "$nvda Top analyst price target for next week:..,,\nhttps://t.co/Bvma23QXJd",
         "0",
         "0",
         "nvda top analyst price target next week",
         "1"
        ]
       ],
       "shape": {
        "columns": 7,
        "rows": 5
       }
      },
      "text/html": [
       "<div>\n",
       "<style scoped>\n",
       "    .dataframe tbody tr th:only-of-type {\n",
       "        vertical-align: middle;\n",
       "    }\n",
       "\n",
       "    .dataframe tbody tr th {\n",
       "        vertical-align: top;\n",
       "    }\n",
       "\n",
       "    .dataframe thead th {\n",
       "        text-align: right;\n",
       "    }\n",
       "</style>\n",
       "<table border=\"1\" class=\"dataframe\">\n",
       "  <thead>\n",
       "    <tr style=\"text-align: right;\">\n",
       "      <th></th>\n",
       "      <th>Tweet_ID</th>\n",
       "      <th>Time_Created</th>\n",
       "      <th>Text</th>\n",
       "      <th>Likes</th>\n",
       "      <th>Retweets</th>\n",
       "      <th>cleaned</th>\n",
       "      <th>sentiment</th>\n",
       "    </tr>\n",
       "  </thead>\n",
       "  <tbody>\n",
       "    <tr>\n",
       "      <th>0</th>\n",
       "      <td>1741926827688681728</td>\n",
       "      <td>2024-01-01</td>\n",
       "      <td>Our analyst called the PUMP on $FLJ, securing ...</td>\n",
       "      <td>0</td>\n",
       "      <td>0</td>\n",
       "      <td>analyst call pump flj secure free trial member...</td>\n",
       "      <td>1</td>\n",
       "    </tr>\n",
       "    <tr>\n",
       "      <th>1</th>\n",
       "      <td>1741855632767004892</td>\n",
       "      <td>2024-01-01</td>\n",
       "      <td>Stocks Performance Upto 1Y\\n\\nEverything is aw...</td>\n",
       "      <td>0</td>\n",
       "      <td>0</td>\n",
       "      <td>stock performance upto everything awesome tsla...</td>\n",
       "      <td>2</td>\n",
       "    </tr>\n",
       "    <tr>\n",
       "      <th>2</th>\n",
       "      <td>1741856010761802082</td>\n",
       "      <td>2024-01-01</td>\n",
       "      <td>Were you invested in $NVDA pre 2021? \\n\\nIf th...</td>\n",
       "      <td>14</td>\n",
       "      <td>2</td>\n",
       "      <td>invest nvda pre answer yes see make think good...</td>\n",
       "      <td>2</td>\n",
       "    </tr>\n",
       "    <tr>\n",
       "      <th>3</th>\n",
       "      <td>1741856822917513633</td>\n",
       "      <td>2024-01-01</td>\n",
       "      <td>Top 3 Bearish Sentiment Cryptos: CROWD\\n\\n 🟥 $...</td>\n",
       "      <td>0</td>\n",
       "      <td>0</td>\n",
       "      <td>top bearish sentiment cryptos crowd red square...</td>\n",
       "      <td>1</td>\n",
       "    </tr>\n",
       "    <tr>\n",
       "      <th>4</th>\n",
       "      <td>1741856927926100073</td>\n",
       "      <td>2024-01-01</td>\n",
       "      <td>$nvda Top analyst price target for next week:....</td>\n",
       "      <td>0</td>\n",
       "      <td>0</td>\n",
       "      <td>nvda top analyst price target next week</td>\n",
       "      <td>1</td>\n",
       "    </tr>\n",
       "  </tbody>\n",
       "</table>\n",
       "</div>"
      ],
      "text/plain": [
       "              Tweet_ID Time_Created  \\\n",
       "0  1741926827688681728   2024-01-01   \n",
       "1  1741855632767004892   2024-01-01   \n",
       "2  1741856010761802082   2024-01-01   \n",
       "3  1741856822917513633   2024-01-01   \n",
       "4  1741856927926100073   2024-01-01   \n",
       "\n",
       "                                                Text  Likes  Retweets  \\\n",
       "0  Our analyst called the PUMP on $FLJ, securing ...      0         0   \n",
       "1  Stocks Performance Upto 1Y\\n\\nEverything is aw...      0         0   \n",
       "2  Were you invested in $NVDA pre 2021? \\n\\nIf th...     14         2   \n",
       "3  Top 3 Bearish Sentiment Cryptos: CROWD\\n\\n 🟥 $...      0         0   \n",
       "4  $nvda Top analyst price target for next week:....      0         0   \n",
       "\n",
       "                                             cleaned  sentiment  \n",
       "0  analyst call pump flj secure free trial member...          1  \n",
       "1  stock performance upto everything awesome tsla...          2  \n",
       "2  invest nvda pre answer yes see make think good...          2  \n",
       "3  top bearish sentiment cryptos crowd red square...          1  \n",
       "4            nvda top analyst price target next week          1  "
      ]
     },
     "execution_count": 7,
     "metadata": {},
     "output_type": "execute_result"
    }
   ],
   "source": [
    "df = pd.read_csv(\"twitter_data/analysed_tweets.csv\", index_col = 0)\n",
    "df.head()"
   ]
  },
  {
   "cell_type": "markdown",
   "metadata": {},
   "source": [
    "For the use-case of this project, it would be more suitable if the sentiment was represented by:<br>\n",
    "{Postive : 1, Neutral : 0, Negative : -1}"
   ]
  },
  {
   "cell_type": "code",
   "execution_count": 8,
   "metadata": {},
   "outputs": [
    {
     "data": {
      "application/vnd.microsoft.datawrangler.viewer.v0+json": {
       "columns": [
        {
         "name": "index",
         "rawType": "int64",
         "type": "integer"
        },
        {
         "name": "Tweet_ID",
         "rawType": "int64",
         "type": "integer"
        },
        {
         "name": "Time_Created",
         "rawType": "object",
         "type": "string"
        },
        {
         "name": "Text",
         "rawType": "object",
         "type": "string"
        },
        {
         "name": "Likes",
         "rawType": "int64",
         "type": "integer"
        },
        {
         "name": "Retweets",
         "rawType": "int64",
         "type": "integer"
        },
        {
         "name": "cleaned",
         "rawType": "object",
         "type": "string"
        },
        {
         "name": "sentiment",
         "rawType": "int64",
         "type": "integer"
        }
       ],
       "conversionMethod": "pd.DataFrame",
       "ref": "65c8b2a7-cc72-48a5-af41-e75d337ed7bd",
       "rows": [
        [
         "0",
         "1741926827688681728",
         "2024-01-01",
         "Our analyst called the PUMP on $FLJ, securing our FREE trial members 111% in GAINS!\n\n$SNTG $CGA $INBX $RNXT $EKSO $CXDO $CRGX $TSLA $NVDA $MARA $AMD $AAPL $AMZN https://t.co/OWXd3SRBXN",
         "0",
         "0",
         "analyst call pump flj secure free trial member gain sntg cga inbx rnxt ekso cxdo crgx tsla nvda mara amd aapl amzn",
         "0"
        ],
        [
         "1",
         "1741855632767004892",
         "2024-01-01",
         "Stocks Performance Upto 1Y\n\nEverything is awesome\n\n$TSLA $NVDA $AAPL $MSFT $META $LLY $NFLX $PLTR $QQQ $NVO $AMZN $RIVN $PYPL $AMD $UNH $SCHW $GOOG $GM $F $ENPH $CVNA $KO $TXN $AI $AMC $COIN $DIS $GME $LAZR $JNJ $LCID $MRK $ORCL $PANW $PLUG $QCOM $ROKU $SPY $VFS \n\n#stocks https://t.co/kAuiCE8Tly",
         "0",
         "0",
         "stock performance upto everything awesome tsla nvda aapl msft meta lly nflx pltr qqq nvo amzn rivn pypl amd unh schw goog enph cvna txn amc coin dis gme lazr jnj lcid mrk orcl panw plug qcom roku spy vfs stock",
         "1"
        ],
        [
         "2",
         "1741856010761802082",
         "2024-01-01",
         "Were you invested in $NVDA pre 2021? \n\nIf the answer is yes, what did you see that made you think there was a good opportunity?\n\n#Nvidia",
         "14",
         "2",
         "invest nvda pre answer yes see make think good opportunity nvidia",
         "1"
        ],
        [
         "3",
         "1741856822917513633",
         "2024-01-01",
         "Top 3 Bearish Sentiment Cryptos: CROWD\n\n 🟥 $NVDA $COIN $MARA\n    \nCheck out sentiment and other crypto stats at https://t.co/HQDyBNuzek\n#crypto #cryptotrading #CryptoX",
         "0",
         "0",
         "top bearish sentiment cryptos crowd red square nvda coin mara check sentiment crypto stats crypto cryptotrading cryptox",
         "0"
        ],
        [
         "4",
         "1741856927926100073",
         "2024-01-01",
         "$nvda Top analyst price target for next week:..,,\nhttps://t.co/Bvma23QXJd",
         "0",
         "0",
         "nvda top analyst price target next week",
         "0"
        ]
       ],
       "shape": {
        "columns": 7,
        "rows": 5
       }
      },
      "text/html": [
       "<div>\n",
       "<style scoped>\n",
       "    .dataframe tbody tr th:only-of-type {\n",
       "        vertical-align: middle;\n",
       "    }\n",
       "\n",
       "    .dataframe tbody tr th {\n",
       "        vertical-align: top;\n",
       "    }\n",
       "\n",
       "    .dataframe thead th {\n",
       "        text-align: right;\n",
       "    }\n",
       "</style>\n",
       "<table border=\"1\" class=\"dataframe\">\n",
       "  <thead>\n",
       "    <tr style=\"text-align: right;\">\n",
       "      <th></th>\n",
       "      <th>Tweet_ID</th>\n",
       "      <th>Time_Created</th>\n",
       "      <th>Text</th>\n",
       "      <th>Likes</th>\n",
       "      <th>Retweets</th>\n",
       "      <th>cleaned</th>\n",
       "      <th>sentiment</th>\n",
       "    </tr>\n",
       "  </thead>\n",
       "  <tbody>\n",
       "    <tr>\n",
       "      <th>0</th>\n",
       "      <td>1741926827688681728</td>\n",
       "      <td>2024-01-01</td>\n",
       "      <td>Our analyst called the PUMP on $FLJ, securing ...</td>\n",
       "      <td>0</td>\n",
       "      <td>0</td>\n",
       "      <td>analyst call pump flj secure free trial member...</td>\n",
       "      <td>0</td>\n",
       "    </tr>\n",
       "    <tr>\n",
       "      <th>1</th>\n",
       "      <td>1741855632767004892</td>\n",
       "      <td>2024-01-01</td>\n",
       "      <td>Stocks Performance Upto 1Y\\n\\nEverything is aw...</td>\n",
       "      <td>0</td>\n",
       "      <td>0</td>\n",
       "      <td>stock performance upto everything awesome tsla...</td>\n",
       "      <td>1</td>\n",
       "    </tr>\n",
       "    <tr>\n",
       "      <th>2</th>\n",
       "      <td>1741856010761802082</td>\n",
       "      <td>2024-01-01</td>\n",
       "      <td>Were you invested in $NVDA pre 2021? \\n\\nIf th...</td>\n",
       "      <td>14</td>\n",
       "      <td>2</td>\n",
       "      <td>invest nvda pre answer yes see make think good...</td>\n",
       "      <td>1</td>\n",
       "    </tr>\n",
       "    <tr>\n",
       "      <th>3</th>\n",
       "      <td>1741856822917513633</td>\n",
       "      <td>2024-01-01</td>\n",
       "      <td>Top 3 Bearish Sentiment Cryptos: CROWD\\n\\n 🟥 $...</td>\n",
       "      <td>0</td>\n",
       "      <td>0</td>\n",
       "      <td>top bearish sentiment cryptos crowd red square...</td>\n",
       "      <td>0</td>\n",
       "    </tr>\n",
       "    <tr>\n",
       "      <th>4</th>\n",
       "      <td>1741856927926100073</td>\n",
       "      <td>2024-01-01</td>\n",
       "      <td>$nvda Top analyst price target for next week:....</td>\n",
       "      <td>0</td>\n",
       "      <td>0</td>\n",
       "      <td>nvda top analyst price target next week</td>\n",
       "      <td>0</td>\n",
       "    </tr>\n",
       "  </tbody>\n",
       "</table>\n",
       "</div>"
      ],
      "text/plain": [
       "              Tweet_ID Time_Created  \\\n",
       "0  1741926827688681728   2024-01-01   \n",
       "1  1741855632767004892   2024-01-01   \n",
       "2  1741856010761802082   2024-01-01   \n",
       "3  1741856822917513633   2024-01-01   \n",
       "4  1741856927926100073   2024-01-01   \n",
       "\n",
       "                                                Text  Likes  Retweets  \\\n",
       "0  Our analyst called the PUMP on $FLJ, securing ...      0         0   \n",
       "1  Stocks Performance Upto 1Y\\n\\nEverything is aw...      0         0   \n",
       "2  Were you invested in $NVDA pre 2021? \\n\\nIf th...     14         2   \n",
       "3  Top 3 Bearish Sentiment Cryptos: CROWD\\n\\n 🟥 $...      0         0   \n",
       "4  $nvda Top analyst price target for next week:....      0         0   \n",
       "\n",
       "                                             cleaned  sentiment  \n",
       "0  analyst call pump flj secure free trial member...          0  \n",
       "1  stock performance upto everything awesome tsla...          1  \n",
       "2  invest nvda pre answer yes see make think good...          1  \n",
       "3  top bearish sentiment cryptos crowd red square...          0  \n",
       "4            nvda top analyst price target next week          0  "
      ]
     },
     "execution_count": 8,
     "metadata": {},
     "output_type": "execute_result"
    }
   ],
   "source": [
    "df['sentiment'] = df['sentiment'].apply(lambda x: x - 1)\n",
    "df.head()"
   ]
  },
  {
   "cell_type": "code",
   "execution_count": 9,
   "metadata": {},
   "outputs": [
    {
     "data": {
      "application/vnd.microsoft.datawrangler.viewer.v0+json": {
       "columns": [
        {
         "name": "Time_Created",
         "rawType": "object",
         "type": "string"
        },
        {
         "name": "sen_mean",
         "rawType": "float64",
         "type": "float"
        },
        {
         "name": "twt_volume",
         "rawType": "int64",
         "type": "integer"
        },
        {
         "name": "sen_sum",
         "rawType": "int64",
         "type": "integer"
        }
       ],
       "conversionMethod": "pd.DataFrame",
       "ref": "662c9e04-5d77-4b57-8463-420c749da626",
       "rows": [
        [
         "2024-01-01",
         "0.16666666666666666",
         "636",
         "106"
        ],
        [
         "2024-01-02",
         "0.08377358490566038",
         "1325",
         "111"
        ],
        [
         "2024-01-03",
         "0.10243277848911651",
         "1562",
         "160"
        ],
        [
         "2024-01-04",
         "0.13887204366282596",
         "1649",
         "229"
        ],
        [
         "2024-01-05",
         "0.1439706556625401",
         "2181",
         "314"
        ]
       ],
       "shape": {
        "columns": 3,
        "rows": 5
       }
      },
      "text/html": [
       "<div>\n",
       "<style scoped>\n",
       "    .dataframe tbody tr th:only-of-type {\n",
       "        vertical-align: middle;\n",
       "    }\n",
       "\n",
       "    .dataframe tbody tr th {\n",
       "        vertical-align: top;\n",
       "    }\n",
       "\n",
       "    .dataframe thead th {\n",
       "        text-align: right;\n",
       "    }\n",
       "</style>\n",
       "<table border=\"1\" class=\"dataframe\">\n",
       "  <thead>\n",
       "    <tr style=\"text-align: right;\">\n",
       "      <th></th>\n",
       "      <th>sen_mean</th>\n",
       "      <th>twt_volume</th>\n",
       "      <th>sen_sum</th>\n",
       "    </tr>\n",
       "    <tr>\n",
       "      <th>Time_Created</th>\n",
       "      <th></th>\n",
       "      <th></th>\n",
       "      <th></th>\n",
       "    </tr>\n",
       "  </thead>\n",
       "  <tbody>\n",
       "    <tr>\n",
       "      <th>2024-01-01</th>\n",
       "      <td>0.166667</td>\n",
       "      <td>636</td>\n",
       "      <td>106</td>\n",
       "    </tr>\n",
       "    <tr>\n",
       "      <th>2024-01-02</th>\n",
       "      <td>0.083774</td>\n",
       "      <td>1325</td>\n",
       "      <td>111</td>\n",
       "    </tr>\n",
       "    <tr>\n",
       "      <th>2024-01-03</th>\n",
       "      <td>0.102433</td>\n",
       "      <td>1562</td>\n",
       "      <td>160</td>\n",
       "    </tr>\n",
       "    <tr>\n",
       "      <th>2024-01-04</th>\n",
       "      <td>0.138872</td>\n",
       "      <td>1649</td>\n",
       "      <td>229</td>\n",
       "    </tr>\n",
       "    <tr>\n",
       "      <th>2024-01-05</th>\n",
       "      <td>0.143971</td>\n",
       "      <td>2181</td>\n",
       "      <td>314</td>\n",
       "    </tr>\n",
       "  </tbody>\n",
       "</table>\n",
       "</div>"
      ],
      "text/plain": [
       "              sen_mean  twt_volume  sen_sum\n",
       "Time_Created                               \n",
       "2024-01-01    0.166667         636      106\n",
       "2024-01-02    0.083774        1325      111\n",
       "2024-01-03    0.102433        1562      160\n",
       "2024-01-04    0.138872        1649      229\n",
       "2024-01-05    0.143971        2181      314"
      ]
     },
     "execution_count": 9,
     "metadata": {},
     "output_type": "execute_result"
    }
   ],
   "source": [
    "sentiment_df = pd.DataFrame(df.groupby(\"Time_Created\")['sentiment'].mean())\n",
    "sentiment_df.rename(columns = {\"sentiment\":\"sen_mean\"}, inplace = True)\n",
    "sentiment_df['twt_volume'] = df.groupby(['Time_Created'])['sentiment'].count()\n",
    "sentiment_df['sen_sum'] = df.groupby('Time_Created')['sentiment'].sum()\n",
    "sentiment_df.head()"
   ]
  },
  {
   "cell_type": "code",
   "execution_count": 5,
   "metadata": {},
   "outputs": [
    {
     "data": {
      "application/vnd.microsoft.datawrangler.viewer.v0+json": {
       "columns": [
        {
         "name": "index",
         "rawType": "int64",
         "type": "integer"
        },
        {
         "name": "Date",
         "rawType": "object",
         "type": "string"
        },
        {
         "name": "Open",
         "rawType": "float64",
         "type": "float"
        },
        {
         "name": "High",
         "rawType": "float64",
         "type": "float"
        },
        {
         "name": "Low",
         "rawType": "float64",
         "type": "float"
        },
        {
         "name": "Close",
         "rawType": "float64",
         "type": "float"
        },
        {
         "name": "Adj Close",
         "rawType": "float64",
         "type": "float"
        },
        {
         "name": "Volume",
         "rawType": "int64",
         "type": "integer"
        }
       ],
       "conversionMethod": "pd.DataFrame",
       "ref": "4059d223-ae5d-4df9-92fb-20af86cd68fd",
       "rows": [
        [
         "0",
         "2024-01-02",
         "492.4400024414063",
         "492.9500122070313",
         "475.9500122070313",
         "481.6799926757813",
         "481.6574096679688",
         "41125400"
        ],
        [
         "1",
         "2024-01-03",
         "474.8500061035156",
         "481.8399963378906",
         "473.2000122070313",
         "475.6900024414063",
         "475.6676940917969",
         "32089600"
        ],
        [
         "2",
         "2024-01-04",
         "477.6700134277344",
         "485.0",
         "475.0799865722656",
         "479.9800109863281",
         "479.9574890136719",
         "30653500"
        ],
        [
         "3",
         "2024-01-05",
         "484.6199951171875",
         "495.4700012207031",
         "483.05999755859375",
         "490.9700012207031",
         "490.9469604492188",
         "41456800"
        ],
        [
         "4",
         "2024-01-08",
         "495.1199951171875",
         "522.75",
         "494.7900085449219",
         "522.530029296875",
         "522.5054931640625",
         "64251000"
        ]
       ],
       "shape": {
        "columns": 7,
        "rows": 5
       }
      },
      "text/html": [
       "<div>\n",
       "<style scoped>\n",
       "    .dataframe tbody tr th:only-of-type {\n",
       "        vertical-align: middle;\n",
       "    }\n",
       "\n",
       "    .dataframe tbody tr th {\n",
       "        vertical-align: top;\n",
       "    }\n",
       "\n",
       "    .dataframe thead th {\n",
       "        text-align: right;\n",
       "    }\n",
       "</style>\n",
       "<table border=\"1\" class=\"dataframe\">\n",
       "  <thead>\n",
       "    <tr style=\"text-align: right;\">\n",
       "      <th></th>\n",
       "      <th>Date</th>\n",
       "      <th>Open</th>\n",
       "      <th>High</th>\n",
       "      <th>Low</th>\n",
       "      <th>Close</th>\n",
       "      <th>Adj Close</th>\n",
       "      <th>Volume</th>\n",
       "    </tr>\n",
       "  </thead>\n",
       "  <tbody>\n",
       "    <tr>\n",
       "      <th>0</th>\n",
       "      <td>2024-01-02</td>\n",
       "      <td>492.440002</td>\n",
       "      <td>492.950012</td>\n",
       "      <td>475.950012</td>\n",
       "      <td>481.679993</td>\n",
       "      <td>481.657410</td>\n",
       "      <td>41125400</td>\n",
       "    </tr>\n",
       "    <tr>\n",
       "      <th>1</th>\n",
       "      <td>2024-01-03</td>\n",
       "      <td>474.850006</td>\n",
       "      <td>481.839996</td>\n",
       "      <td>473.200012</td>\n",
       "      <td>475.690002</td>\n",
       "      <td>475.667694</td>\n",
       "      <td>32089600</td>\n",
       "    </tr>\n",
       "    <tr>\n",
       "      <th>2</th>\n",
       "      <td>2024-01-04</td>\n",
       "      <td>477.670013</td>\n",
       "      <td>485.000000</td>\n",
       "      <td>475.079987</td>\n",
       "      <td>479.980011</td>\n",
       "      <td>479.957489</td>\n",
       "      <td>30653500</td>\n",
       "    </tr>\n",
       "    <tr>\n",
       "      <th>3</th>\n",
       "      <td>2024-01-05</td>\n",
       "      <td>484.619995</td>\n",
       "      <td>495.470001</td>\n",
       "      <td>483.059998</td>\n",
       "      <td>490.970001</td>\n",
       "      <td>490.946960</td>\n",
       "      <td>41456800</td>\n",
       "    </tr>\n",
       "    <tr>\n",
       "      <th>4</th>\n",
       "      <td>2024-01-08</td>\n",
       "      <td>495.119995</td>\n",
       "      <td>522.750000</td>\n",
       "      <td>494.790009</td>\n",
       "      <td>522.530029</td>\n",
       "      <td>522.505493</td>\n",
       "      <td>64251000</td>\n",
       "    </tr>\n",
       "  </tbody>\n",
       "</table>\n",
       "</div>"
      ],
      "text/plain": [
       "         Date        Open        High         Low       Close   Adj Close  \\\n",
       "0  2024-01-02  492.440002  492.950012  475.950012  481.679993  481.657410   \n",
       "1  2024-01-03  474.850006  481.839996  473.200012  475.690002  475.667694   \n",
       "2  2024-01-04  477.670013  485.000000  475.079987  479.980011  479.957489   \n",
       "3  2024-01-05  484.619995  495.470001  483.059998  490.970001  490.946960   \n",
       "4  2024-01-08  495.119995  522.750000  494.790009  522.530029  522.505493   \n",
       "\n",
       "     Volume  \n",
       "0  41125400  \n",
       "1  32089600  \n",
       "2  30653500  \n",
       "3  41456800  \n",
       "4  64251000  "
      ]
     },
     "execution_count": 5,
     "metadata": {},
     "output_type": "execute_result"
    }
   ],
   "source": [
    "nvda_stocks = pd.read_csv(\"stock_data/NVDA_01-01-03-31\")\n",
    "nvda_stocks.head()"
   ]
  },
  {
   "cell_type": "code",
   "execution_count": 10,
   "metadata": {},
   "outputs": [
    {
     "data": {
      "application/vnd.microsoft.datawrangler.viewer.v0+json": {
       "columns": [
        {
         "name": "index",
         "rawType": "int64",
         "type": "integer"
        },
        {
         "name": "Date",
         "rawType": "object",
         "type": "string"
        },
        {
         "name": "Open",
         "rawType": "float64",
         "type": "float"
        },
        {
         "name": "High",
         "rawType": "float64",
         "type": "float"
        },
        {
         "name": "Low",
         "rawType": "float64",
         "type": "float"
        },
        {
         "name": "Close",
         "rawType": "float64",
         "type": "float"
        },
        {
         "name": "Adj Close",
         "rawType": "float64",
         "type": "float"
        },
        {
         "name": "Volume",
         "rawType": "int64",
         "type": "integer"
        },
        {
         "name": "sen_mean",
         "rawType": "float64",
         "type": "float"
        },
        {
         "name": "twt_volume",
         "rawType": "int64",
         "type": "integer"
        },
        {
         "name": "sen_sum",
         "rawType": "int64",
         "type": "integer"
        }
       ],
       "conversionMethod": "pd.DataFrame",
       "ref": "0833e3bb-d606-4cc9-b1d9-83358a8ca1bf",
       "rows": [
        [
         "0",
         "2024-01-02",
         "492.4400024414063",
         "492.9500122070313",
         "475.9500122070313",
         "481.6799926757813",
         "481.6574096679688",
         "41125400",
         "0.08377358490566038",
         "1325",
         "111"
        ],
        [
         "1",
         "2024-01-03",
         "474.8500061035156",
         "481.8399963378906",
         "473.2000122070313",
         "475.6900024414063",
         "475.6676940917969",
         "32089600",
         "0.10243277848911651",
         "1562",
         "160"
        ],
        [
         "2",
         "2024-01-04",
         "477.6700134277344",
         "485.0",
         "475.0799865722656",
         "479.9800109863281",
         "479.9574890136719",
         "30653500",
         "0.13887204366282596",
         "1649",
         "229"
        ],
        [
         "3",
         "2024-01-05",
         "484.6199951171875",
         "495.4700012207031",
         "483.05999755859375",
         "490.9700012207031",
         "490.9469604492188",
         "41456800",
         "0.1439706556625401",
         "2181",
         "314"
        ],
        [
         "4",
         "2024-01-08",
         "495.1199951171875",
         "522.75",
         "494.7900085449219",
         "522.530029296875",
         "522.5054931640625",
         "64251000",
         "0.10648148148148148",
         "3888",
         "414"
        ]
       ],
       "shape": {
        "columns": 10,
        "rows": 5
       }
      },
      "text/html": [
       "<div>\n",
       "<style scoped>\n",
       "    .dataframe tbody tr th:only-of-type {\n",
       "        vertical-align: middle;\n",
       "    }\n",
       "\n",
       "    .dataframe tbody tr th {\n",
       "        vertical-align: top;\n",
       "    }\n",
       "\n",
       "    .dataframe thead th {\n",
       "        text-align: right;\n",
       "    }\n",
       "</style>\n",
       "<table border=\"1\" class=\"dataframe\">\n",
       "  <thead>\n",
       "    <tr style=\"text-align: right;\">\n",
       "      <th></th>\n",
       "      <th>Date</th>\n",
       "      <th>Open</th>\n",
       "      <th>High</th>\n",
       "      <th>Low</th>\n",
       "      <th>Close</th>\n",
       "      <th>Adj Close</th>\n",
       "      <th>Volume</th>\n",
       "      <th>sen_mean</th>\n",
       "      <th>twt_volume</th>\n",
       "      <th>sen_sum</th>\n",
       "    </tr>\n",
       "  </thead>\n",
       "  <tbody>\n",
       "    <tr>\n",
       "      <th>0</th>\n",
       "      <td>2024-01-02</td>\n",
       "      <td>492.440002</td>\n",
       "      <td>492.950012</td>\n",
       "      <td>475.950012</td>\n",
       "      <td>481.679993</td>\n",
       "      <td>481.657410</td>\n",
       "      <td>41125400</td>\n",
       "      <td>0.083774</td>\n",
       "      <td>1325</td>\n",
       "      <td>111</td>\n",
       "    </tr>\n",
       "    <tr>\n",
       "      <th>1</th>\n",
       "      <td>2024-01-03</td>\n",
       "      <td>474.850006</td>\n",
       "      <td>481.839996</td>\n",
       "      <td>473.200012</td>\n",
       "      <td>475.690002</td>\n",
       "      <td>475.667694</td>\n",
       "      <td>32089600</td>\n",
       "      <td>0.102433</td>\n",
       "      <td>1562</td>\n",
       "      <td>160</td>\n",
       "    </tr>\n",
       "    <tr>\n",
       "      <th>2</th>\n",
       "      <td>2024-01-04</td>\n",
       "      <td>477.670013</td>\n",
       "      <td>485.000000</td>\n",
       "      <td>475.079987</td>\n",
       "      <td>479.980011</td>\n",
       "      <td>479.957489</td>\n",
       "      <td>30653500</td>\n",
       "      <td>0.138872</td>\n",
       "      <td>1649</td>\n",
       "      <td>229</td>\n",
       "    </tr>\n",
       "    <tr>\n",
       "      <th>3</th>\n",
       "      <td>2024-01-05</td>\n",
       "      <td>484.619995</td>\n",
       "      <td>495.470001</td>\n",
       "      <td>483.059998</td>\n",
       "      <td>490.970001</td>\n",
       "      <td>490.946960</td>\n",
       "      <td>41456800</td>\n",
       "      <td>0.143971</td>\n",
       "      <td>2181</td>\n",
       "      <td>314</td>\n",
       "    </tr>\n",
       "    <tr>\n",
       "      <th>4</th>\n",
       "      <td>2024-01-08</td>\n",
       "      <td>495.119995</td>\n",
       "      <td>522.750000</td>\n",
       "      <td>494.790009</td>\n",
       "      <td>522.530029</td>\n",
       "      <td>522.505493</td>\n",
       "      <td>64251000</td>\n",
       "      <td>0.106481</td>\n",
       "      <td>3888</td>\n",
       "      <td>414</td>\n",
       "    </tr>\n",
       "  </tbody>\n",
       "</table>\n",
       "</div>"
      ],
      "text/plain": [
       "         Date        Open        High         Low       Close   Adj Close  \\\n",
       "0  2024-01-02  492.440002  492.950012  475.950012  481.679993  481.657410   \n",
       "1  2024-01-03  474.850006  481.839996  473.200012  475.690002  475.667694   \n",
       "2  2024-01-04  477.670013  485.000000  475.079987  479.980011  479.957489   \n",
       "3  2024-01-05  484.619995  495.470001  483.059998  490.970001  490.946960   \n",
       "4  2024-01-08  495.119995  522.750000  494.790009  522.530029  522.505493   \n",
       "\n",
       "     Volume  sen_mean  twt_volume  sen_sum  \n",
       "0  41125400  0.083774        1325      111  \n",
       "1  32089600  0.102433        1562      160  \n",
       "2  30653500  0.138872        1649      229  \n",
       "3  41456800  0.143971        2181      314  \n",
       "4  64251000  0.106481        3888      414  "
      ]
     },
     "execution_count": 10,
     "metadata": {},
     "output_type": "execute_result"
    }
   ],
   "source": [
    "final_df = pd.merge(nvda_stocks, sentiment_df, left_on = \"Date\", right_on = \"Time_Created\", how = 'inner')\n",
    "final_df.head()"
   ]
  },
  {
   "cell_type": "code",
   "execution_count": 25,
   "metadata": {},
   "outputs": [],
   "source": [
    "#Saving the data in a csv file\n",
    "final_df.to_csv(\"NVDA_final\")"
   ]
  },
  {
   "cell_type": "markdown",
   "metadata": {},
   "source": [
    "The __candlestick__ graph representing the performance of NVDA in Q1 2024"
   ]
  },
  {
   "cell_type": "code",
   "execution_count": 4,
   "metadata": {},
   "outputs": [
    {
     "data": {
      "application/vnd.plotly.v1+json": {
       "config": {
        "plotlyServerURL": "https://plot.ly"
       },
       "data": [
        {
         "close": {
          "bdata": "AQAAQOEafkABAABACrt9QAAAACCu/31AAAAAIIWvfkAAAACAPVSAQAAAAEAzm4BAAAAAAAD8gEAAAACAwiGBQAAAAMDMGIFAAAAAYI+egUAAAACAPYSBQAAAAGCP2IFAAAAAoEeXgkAAAADgUaSCQAAAAADXtYJAAAAAwPUsg0AAAAAgXEGDQAAAAOB6EoNAAAAAQDOFg0AAAACA652DQAAAAAApOoNAAAAAACmyg0AAAADAzKyEQAAAAGCPqoVAAAAAANdRhUAAAACA6+eFQAAAAKBHw4VAAAAA4KOKhkAAAAAA15OGQAAAAIA9ioZAAAAAAAAYh0AAAADgo7SGQAAAAEAKsYZAAAAAACm0hUAAAACAwhWFQAAAAEAKi4hAAAAAIFyhiEAAAAAgXLeIQAAAAIAUmIhAAAAAQApFiEAAAADA9biIQAAAAOBRtolAAAAAwPWiikAAAADAHt2KQAAAAAAAuItAAAAAIIX1jEAAAACAPVqLQAAAAIDrzYpA////Pwq5jED///8/CmeMQAAAACCFe4tAAAAAwPVyi0AAAABgZqSLQAAAAADX74tAAAAAgMI9jEABAADAzJKMQAEAAMAed41AAAAAACmwjUD///8/4eyMQAAAAAAANIxAAAAA4Ho8jEA=",
          "dtype": "f8"
         },
         "high": {
          "bdata": "AQAAQDPPfkAAAACgcB1+QAAAAAAAUH5AAAAAIIX3fkAAAAAAAFaAQAAAAAAA+oBAAAAAAAAQgUAAAAAgrkuBQAAAAKCZLYFAAAAAwMzCgUAAAAAgrqWBQAAAAAAAAIJAAAAAAACYgkAAAADgetqCQAAAAMDMuIJAAAAAgOujg0AAAAAghZmDQAAAAOCjToNAAAAAwB6Hg0AAAACgcNeDQAAAACCFdYNAAAAAoEe/g0AAAAAAANCEQAAAAIDCt4VAAAAA4FHMhUAAAACgmfGFQAAAACCFH4ZAAAAAwMyOhkAAAABA4VCHQAAAAAAA9IZAAAAAQOEyh0AAAAAAAB6HQAAAAAApQIdAAAAA4Hp8hkAAAABACoeFQAAAAAAAjohAAAAAIIW/iUAAAAAgrjOJQAAAAGBm1ohAAAAA4KOqiEAAAABAM/+IQAAAAAAAuIlAAAAAoJlni0AAAACAwueKQAAAAIDrCYxAAAAAIFz9jEAAAAAAAHCOQAAAAIDCv4tAAQAAwMy8jEAAAADgUZiMQAAAACCuU4xAAAAAIK77i0AAAABgZuCMQAAAACCFS4xAAQAAwMxAjEAAAAAA1/OMQAAAAIA9no1AAAAAoEc9jkAAAAAAAB6OQP///z8zI41AAAAAAACIjEA=",
          "dtype": "f8"
         },
         "low": {
          "bdata": "AQAAQDO/fUABAABAM5N9QAAAAKBHsX1AAAAAwPUwfkAAAADgo+x+QAAAAEAzJ4BAAAAAwB63gEAAAADAzLyAQAAAAGBm+oBAAAAAAAAogUAAAABAMxuBQAAAAGCPiIFAAAAAAADigUAAAACgmXWCQAAAAMDMToJAAAAAQAq7gkAAAAAAAASDQAAAAADX7YJAAAAAYI8Ig0AAAADAzHSDQAAAAAAA+IJAAAAAAABEg0AAAABAM+eDQAAAAGBmAIVAAAAAAAC4hEAAAAAAACCFQAAAAGBmtIVAAAAAwPXwhUAAAAAAAESGQAAAAKCZwYVAAAAAQAp7hkAAAAAAAKCGQAAAAIAUqIZAAAAAYLgqhUAAAAAA17OEQAAAAKCZMYdAAAAAoJk9iEAAAABgZoiIQAAAAMD1HIhAAAAAAAAaiEAAAAAAAHyIQAAAAMDM0ohAAAAAIIUpikAAAAAgXBGKQAAAAGBmMotAAAAAACkAjEAAAADgegiLQAAAAKBHTYpAAAAAAADsikAAAADAzKKLQAAAAAAAEItAAAAAYI/0ikAAAADAzDaLQAAAAMDMkIpAAAAAANeRi0AAAABgZkCMQAAAAGC4YoxAAQAAwMw4jUAAAAAAKeiMQAAAAADX2YtAAAAAoHDfi0A=",
          "dtype": "f8"
         },
         "open": {
          "bdata": "AQAAQArHfkAAAACgma19QAAAAGC42n1AAAAAgOtJfkAAAACA6/F+QAAAAIAUYIBAAAAAoEfBgEAAAACA6y+BQAAAAKCZEYFAAAAAoHAxgUAAAACAwpuBQAAAAMDM5IFAAAAAwB4fgkAAAACA68OCQAAAAKCZnYJAAAAA4FHYgkAAAAAAAHyDQAAAAMDMDINAAAAAYI8ig0AAAAAAAKiDQAAAAEAzM4NAAAAAAABog0AAAACA6/2DQAAAAAAAUoVAAAAAYGbChUAAAAAghVmFQAAAAIDr5YVAAAAA4KMKhkAAAAAAALCGQAAAAAAAAIZAAAAAACnghkAAAAAghRWHQAAAAAAAKIdAAAAAgMJ7hkAAAADgekCFQAAAAAAAcodAAAAAQDM/iUAAAAAAAOiIQAAAAOB6zohAAAAAoJlBiEAAAAAghbeIQAAAAAAAAIlAAAAAYGZKikAAAACgmaWKQAAAAIDCgYtAAAAA4KMsjED///8/CruNQAAAAOBRAotAAAAAgOuDi0AAAABgZnSMQAAAAAAp/otAAAAAYGYqi0D///8/Cj+MQAAAAAAAGItAAAAAgMIPjEAAAAAAANiMQAAAAKBHe4xAAAAAoEdbjUAAAACAFPSNQAEAAMD1GI1AAAAAAAAgjEA=",
          "dtype": "f8"
         },
         "type": "candlestick",
         "x": [
          "2024-01-02",
          "2024-01-03",
          "2024-01-04",
          "2024-01-05",
          "2024-01-08",
          "2024-01-09",
          "2024-01-10",
          "2024-01-11",
          "2024-01-12",
          "2024-01-16",
          "2024-01-17",
          "2024-01-18",
          "2024-01-19",
          "2024-01-22",
          "2024-01-23",
          "2024-01-24",
          "2024-01-25",
          "2024-01-26",
          "2024-01-29",
          "2024-01-30",
          "2024-01-31",
          "2024-02-01",
          "2024-02-02",
          "2024-02-05",
          "2024-02-06",
          "2024-02-07",
          "2024-02-08",
          "2024-02-09",
          "2024-02-12",
          "2024-02-13",
          "2024-02-14",
          "2024-02-15",
          "2024-02-16",
          "2024-02-20",
          "2024-02-21",
          "2024-02-22",
          "2024-02-23",
          "2024-02-26",
          "2024-02-27",
          "2024-02-28",
          "2024-02-29",
          "2024-03-01",
          "2024-03-04",
          "2024-03-05",
          "2024-03-06",
          "2024-03-07",
          "2024-03-08",
          "2024-03-11",
          "2024-03-12",
          "2024-03-13",
          "2024-03-14",
          "2024-03-15",
          "2024-03-18",
          "2024-03-19",
          "2024-03-20",
          "2024-03-21",
          "2024-03-22",
          "2024-03-25",
          "2024-03-26",
          "2024-03-27",
          "2024-03-28"
         ]
        }
       ],
       "layout": {
        "template": {
         "data": {
          "bar": [
           {
            "error_x": {
             "color": "#2a3f5f"
            },
            "error_y": {
             "color": "#2a3f5f"
            },
            "marker": {
             "line": {
              "color": "#E5ECF6",
              "width": 0.5
             },
             "pattern": {
              "fillmode": "overlay",
              "size": 10,
              "solidity": 0.2
             }
            },
            "type": "bar"
           }
          ],
          "barpolar": [
           {
            "marker": {
             "line": {
              "color": "#E5ECF6",
              "width": 0.5
             },
             "pattern": {
              "fillmode": "overlay",
              "size": 10,
              "solidity": 0.2
             }
            },
            "type": "barpolar"
           }
          ],
          "carpet": [
           {
            "aaxis": {
             "endlinecolor": "#2a3f5f",
             "gridcolor": "white",
             "linecolor": "white",
             "minorgridcolor": "white",
             "startlinecolor": "#2a3f5f"
            },
            "baxis": {
             "endlinecolor": "#2a3f5f",
             "gridcolor": "white",
             "linecolor": "white",
             "minorgridcolor": "white",
             "startlinecolor": "#2a3f5f"
            },
            "type": "carpet"
           }
          ],
          "choropleth": [
           {
            "colorbar": {
             "outlinewidth": 0,
             "ticks": ""
            },
            "type": "choropleth"
           }
          ],
          "contour": [
           {
            "colorbar": {
             "outlinewidth": 0,
             "ticks": ""
            },
            "colorscale": [
             [
              0,
              "#0d0887"
             ],
             [
              0.1111111111111111,
              "#46039f"
             ],
             [
              0.2222222222222222,
              "#7201a8"
             ],
             [
              0.3333333333333333,
              "#9c179e"
             ],
             [
              0.4444444444444444,
              "#bd3786"
             ],
             [
              0.5555555555555556,
              "#d8576b"
             ],
             [
              0.6666666666666666,
              "#ed7953"
             ],
             [
              0.7777777777777778,
              "#fb9f3a"
             ],
             [
              0.8888888888888888,
              "#fdca26"
             ],
             [
              1,
              "#f0f921"
             ]
            ],
            "type": "contour"
           }
          ],
          "contourcarpet": [
           {
            "colorbar": {
             "outlinewidth": 0,
             "ticks": ""
            },
            "type": "contourcarpet"
           }
          ],
          "heatmap": [
           {
            "colorbar": {
             "outlinewidth": 0,
             "ticks": ""
            },
            "colorscale": [
             [
              0,
              "#0d0887"
             ],
             [
              0.1111111111111111,
              "#46039f"
             ],
             [
              0.2222222222222222,
              "#7201a8"
             ],
             [
              0.3333333333333333,
              "#9c179e"
             ],
             [
              0.4444444444444444,
              "#bd3786"
             ],
             [
              0.5555555555555556,
              "#d8576b"
             ],
             [
              0.6666666666666666,
              "#ed7953"
             ],
             [
              0.7777777777777778,
              "#fb9f3a"
             ],
             [
              0.8888888888888888,
              "#fdca26"
             ],
             [
              1,
              "#f0f921"
             ]
            ],
            "type": "heatmap"
           }
          ],
          "histogram": [
           {
            "marker": {
             "pattern": {
              "fillmode": "overlay",
              "size": 10,
              "solidity": 0.2
             }
            },
            "type": "histogram"
           }
          ],
          "histogram2d": [
           {
            "colorbar": {
             "outlinewidth": 0,
             "ticks": ""
            },
            "colorscale": [
             [
              0,
              "#0d0887"
             ],
             [
              0.1111111111111111,
              "#46039f"
             ],
             [
              0.2222222222222222,
              "#7201a8"
             ],
             [
              0.3333333333333333,
              "#9c179e"
             ],
             [
              0.4444444444444444,
              "#bd3786"
             ],
             [
              0.5555555555555556,
              "#d8576b"
             ],
             [
              0.6666666666666666,
              "#ed7953"
             ],
             [
              0.7777777777777778,
              "#fb9f3a"
             ],
             [
              0.8888888888888888,
              "#fdca26"
             ],
             [
              1,
              "#f0f921"
             ]
            ],
            "type": "histogram2d"
           }
          ],
          "histogram2dcontour": [
           {
            "colorbar": {
             "outlinewidth": 0,
             "ticks": ""
            },
            "colorscale": [
             [
              0,
              "#0d0887"
             ],
             [
              0.1111111111111111,
              "#46039f"
             ],
             [
              0.2222222222222222,
              "#7201a8"
             ],
             [
              0.3333333333333333,
              "#9c179e"
             ],
             [
              0.4444444444444444,
              "#bd3786"
             ],
             [
              0.5555555555555556,
              "#d8576b"
             ],
             [
              0.6666666666666666,
              "#ed7953"
             ],
             [
              0.7777777777777778,
              "#fb9f3a"
             ],
             [
              0.8888888888888888,
              "#fdca26"
             ],
             [
              1,
              "#f0f921"
             ]
            ],
            "type": "histogram2dcontour"
           }
          ],
          "mesh3d": [
           {
            "colorbar": {
             "outlinewidth": 0,
             "ticks": ""
            },
            "type": "mesh3d"
           }
          ],
          "parcoords": [
           {
            "line": {
             "colorbar": {
              "outlinewidth": 0,
              "ticks": ""
             }
            },
            "type": "parcoords"
           }
          ],
          "pie": [
           {
            "automargin": true,
            "type": "pie"
           }
          ],
          "scatter": [
           {
            "fillpattern": {
             "fillmode": "overlay",
             "size": 10,
             "solidity": 0.2
            },
            "type": "scatter"
           }
          ],
          "scatter3d": [
           {
            "line": {
             "colorbar": {
              "outlinewidth": 0,
              "ticks": ""
             }
            },
            "marker": {
             "colorbar": {
              "outlinewidth": 0,
              "ticks": ""
             }
            },
            "type": "scatter3d"
           }
          ],
          "scattercarpet": [
           {
            "marker": {
             "colorbar": {
              "outlinewidth": 0,
              "ticks": ""
             }
            },
            "type": "scattercarpet"
           }
          ],
          "scattergeo": [
           {
            "marker": {
             "colorbar": {
              "outlinewidth": 0,
              "ticks": ""
             }
            },
            "type": "scattergeo"
           }
          ],
          "scattergl": [
           {
            "marker": {
             "colorbar": {
              "outlinewidth": 0,
              "ticks": ""
             }
            },
            "type": "scattergl"
           }
          ],
          "scattermap": [
           {
            "marker": {
             "colorbar": {
              "outlinewidth": 0,
              "ticks": ""
             }
            },
            "type": "scattermap"
           }
          ],
          "scattermapbox": [
           {
            "marker": {
             "colorbar": {
              "outlinewidth": 0,
              "ticks": ""
             }
            },
            "type": "scattermapbox"
           }
          ],
          "scatterpolar": [
           {
            "marker": {
             "colorbar": {
              "outlinewidth": 0,
              "ticks": ""
             }
            },
            "type": "scatterpolar"
           }
          ],
          "scatterpolargl": [
           {
            "marker": {
             "colorbar": {
              "outlinewidth": 0,
              "ticks": ""
             }
            },
            "type": "scatterpolargl"
           }
          ],
          "scatterternary": [
           {
            "marker": {
             "colorbar": {
              "outlinewidth": 0,
              "ticks": ""
             }
            },
            "type": "scatterternary"
           }
          ],
          "surface": [
           {
            "colorbar": {
             "outlinewidth": 0,
             "ticks": ""
            },
            "colorscale": [
             [
              0,
              "#0d0887"
             ],
             [
              0.1111111111111111,
              "#46039f"
             ],
             [
              0.2222222222222222,
              "#7201a8"
             ],
             [
              0.3333333333333333,
              "#9c179e"
             ],
             [
              0.4444444444444444,
              "#bd3786"
             ],
             [
              0.5555555555555556,
              "#d8576b"
             ],
             [
              0.6666666666666666,
              "#ed7953"
             ],
             [
              0.7777777777777778,
              "#fb9f3a"
             ],
             [
              0.8888888888888888,
              "#fdca26"
             ],
             [
              1,
              "#f0f921"
             ]
            ],
            "type": "surface"
           }
          ],
          "table": [
           {
            "cells": {
             "fill": {
              "color": "#EBF0F8"
             },
             "line": {
              "color": "white"
             }
            },
            "header": {
             "fill": {
              "color": "#C8D4E3"
             },
             "line": {
              "color": "white"
             }
            },
            "type": "table"
           }
          ]
         },
         "layout": {
          "annotationdefaults": {
           "arrowcolor": "#2a3f5f",
           "arrowhead": 0,
           "arrowwidth": 1
          },
          "autotypenumbers": "strict",
          "coloraxis": {
           "colorbar": {
            "outlinewidth": 0,
            "ticks": ""
           }
          },
          "colorscale": {
           "diverging": [
            [
             0,
             "#8e0152"
            ],
            [
             0.1,
             "#c51b7d"
            ],
            [
             0.2,
             "#de77ae"
            ],
            [
             0.3,
             "#f1b6da"
            ],
            [
             0.4,
             "#fde0ef"
            ],
            [
             0.5,
             "#f7f7f7"
            ],
            [
             0.6,
             "#e6f5d0"
            ],
            [
             0.7,
             "#b8e186"
            ],
            [
             0.8,
             "#7fbc41"
            ],
            [
             0.9,
             "#4d9221"
            ],
            [
             1,
             "#276419"
            ]
           ],
           "sequential": [
            [
             0,
             "#0d0887"
            ],
            [
             0.1111111111111111,
             "#46039f"
            ],
            [
             0.2222222222222222,
             "#7201a8"
            ],
            [
             0.3333333333333333,
             "#9c179e"
            ],
            [
             0.4444444444444444,
             "#bd3786"
            ],
            [
             0.5555555555555556,
             "#d8576b"
            ],
            [
             0.6666666666666666,
             "#ed7953"
            ],
            [
             0.7777777777777778,
             "#fb9f3a"
            ],
            [
             0.8888888888888888,
             "#fdca26"
            ],
            [
             1,
             "#f0f921"
            ]
           ],
           "sequentialminus": [
            [
             0,
             "#0d0887"
            ],
            [
             0.1111111111111111,
             "#46039f"
            ],
            [
             0.2222222222222222,
             "#7201a8"
            ],
            [
             0.3333333333333333,
             "#9c179e"
            ],
            [
             0.4444444444444444,
             "#bd3786"
            ],
            [
             0.5555555555555556,
             "#d8576b"
            ],
            [
             0.6666666666666666,
             "#ed7953"
            ],
            [
             0.7777777777777778,
             "#fb9f3a"
            ],
            [
             0.8888888888888888,
             "#fdca26"
            ],
            [
             1,
             "#f0f921"
            ]
           ]
          },
          "colorway": [
           "#636efa",
           "#EF553B",
           "#00cc96",
           "#ab63fa",
           "#FFA15A",
           "#19d3f3",
           "#FF6692",
           "#B6E880",
           "#FF97FF",
           "#FECB52"
          ],
          "font": {
           "color": "#2a3f5f"
          },
          "geo": {
           "bgcolor": "white",
           "lakecolor": "white",
           "landcolor": "#E5ECF6",
           "showlakes": true,
           "showland": true,
           "subunitcolor": "white"
          },
          "hoverlabel": {
           "align": "left"
          },
          "hovermode": "closest",
          "mapbox": {
           "style": "light"
          },
          "paper_bgcolor": "white",
          "plot_bgcolor": "#E5ECF6",
          "polar": {
           "angularaxis": {
            "gridcolor": "white",
            "linecolor": "white",
            "ticks": ""
           },
           "bgcolor": "#E5ECF6",
           "radialaxis": {
            "gridcolor": "white",
            "linecolor": "white",
            "ticks": ""
           }
          },
          "scene": {
           "xaxis": {
            "backgroundcolor": "#E5ECF6",
            "gridcolor": "white",
            "gridwidth": 2,
            "linecolor": "white",
            "showbackground": true,
            "ticks": "",
            "zerolinecolor": "white"
           },
           "yaxis": {
            "backgroundcolor": "#E5ECF6",
            "gridcolor": "white",
            "gridwidth": 2,
            "linecolor": "white",
            "showbackground": true,
            "ticks": "",
            "zerolinecolor": "white"
           },
           "zaxis": {
            "backgroundcolor": "#E5ECF6",
            "gridcolor": "white",
            "gridwidth": 2,
            "linecolor": "white",
            "showbackground": true,
            "ticks": "",
            "zerolinecolor": "white"
           }
          },
          "shapedefaults": {
           "line": {
            "color": "#2a3f5f"
           }
          },
          "ternary": {
           "aaxis": {
            "gridcolor": "white",
            "linecolor": "white",
            "ticks": ""
           },
           "baxis": {
            "gridcolor": "white",
            "linecolor": "white",
            "ticks": ""
           },
           "bgcolor": "#E5ECF6",
           "caxis": {
            "gridcolor": "white",
            "linecolor": "white",
            "ticks": ""
           }
          },
          "title": {
           "x": 0.05
          },
          "xaxis": {
           "automargin": true,
           "gridcolor": "white",
           "linecolor": "white",
           "ticks": "",
           "title": {
            "standoff": 15
           },
           "zerolinecolor": "white",
           "zerolinewidth": 2
          },
          "yaxis": {
           "automargin": true,
           "gridcolor": "white",
           "linecolor": "white",
           "ticks": "",
           "title": {
            "standoff": 15
           },
           "zerolinecolor": "white",
           "zerolinewidth": 2
          }
         }
        },
        "title": {
         "text": "Nvidia(NVDA) Q1 2024",
         "x": 0.5,
         "xanchor": "center",
         "y": 0.9,
         "yanchor": "top"
        },
        "xaxis": {
         "rangeslider": {
          "visible": false
         },
         "title": {
          "text": "Dates"
         }
        },
        "yaxis": {
         "title": {
          "text": "Price"
         }
        }
       }
      }
     },
     "metadata": {},
     "output_type": "display_data"
    }
   ],
   "source": [
    "fig = go.Figure(data=[go.Candlestick(x= nvda_stocks['Date'],\n",
    "                open= nvda_stocks['Open'],\n",
    "                high= nvda_stocks['High'],\n",
    "                low= nvda_stocks['Low'],\n",
    "                close= nvda_stocks['Close'])])\n",
    "fig.update_layout(title = {'text' : \"Nvidia(NVDA) Q1 2024\",\n",
    "                           'y':0.9,\n",
    "                           'x':0.5,\n",
    "                           'xanchor': 'center',\n",
    "                           'yanchor': 'top'},\n",
    "                  xaxis_title = \"Dates\",\n",
    "                  yaxis_title = \"Price\",\n",
    "                  xaxis_rangeslider_visible = False)\n",
    "fig.show()"
   ]
  },
  {
   "cell_type": "markdown",
   "metadata": {},
   "source": [
    "The __correlation__ between __volume of tweets__ and __volume of trades__"
   ]
  },
  {
   "cell_type": "code",
   "execution_count": 15,
   "metadata": {},
   "outputs": [
    {
     "data": {
      "image/png": "[encoded data removed]",
      "text/plain": [
       "<Figure size 1500x800 with 2 Axes>"
      ]
     },
     "metadata": {},
     "output_type": "display_data"
    }
   ],
   "source": [
    "fig, ax = plt.subplots(figsize = (15,8))\n",
    "ax2 = ax.twinx()\n",
    "\n",
    "# Volume was divided by 10000 to make the ranges of the attributes similar\n",
    "sns.lineplot(data=final_df, x='Date', y=final_df['Volume']/10000, label='Stock Volume')\n",
    "sns.lineplot(data=final_df, x='Date', y=final_df['twt_volume'], label='Tweet Volume')\n",
    "\n",
    "\n",
    "# Add labels and title\n",
    "plt.xlabel('Date')\n",
    "ax.set_ylabel(\"Volume\", fontsize=15)\n",
    "ax2.set_ylabel(\"Tweet Volume\", fontsize=15, color= \"orange\")\n",
    "plt.title('Line Plots of Stock Volume and Tweet Volume')\n",
    "\n",
    "# X-lable settings\n",
    "ax.set_xlabel(\"Date\", fontsize = 15)\n",
    "fig.autofmt_xdate(rotation=90)\n",
    "plt.tight_layout()\n",
    "ax.grid(True,linestyle='--', alpha=0.7)\n",
    "ax.grid(True, which=\"minor\", linestyle = \"dotted\", alpha = 0.5)\n",
    "ax.minorticks_on()\n",
    "ax.tick_params(axis='x', labelsize= 8)\n",
    "ax2.minorticks_on()\n",
    "\n",
    "\n",
    "plt.tight_layout()\n",
    "plt.legend(fontsize = 15)\n",
    "plt.grid(True, linestyle = \"--\", alpha = 0.7)\n",
    "plt.grid(True, which=\"minor\", linestyle = \"dotted\", alpha = 0.5)\n",
    "plt.minorticks_on()\n",
    "\n",
    "\n",
    "pearson_corr = final_df['Volume'].corr(final_df['twt_volume'], method='pearson')\n",
    "\n",
    "# Display correlation coefficients on the plot\n",
    "plt.annotate(f\"Pearson Correlation: {pearson_corr:.2f}\", xy=(0.25, 0.9), xycoords='axes fraction', ha='center', fontsize=15, color='green')\n",
    "# Show the plot\n",
    "plt.show()\n"
   ]
  },
  {
   "cell_type": "markdown",
   "metadata": {},
   "source": [
    "The number of tweets about NVIDIA on a specific day have a __very high correlation__ with the number of stock traded for NVDA"
   ]
  },
  {
   "cell_type": "markdown",
   "metadata": {},
   "source": [
    "The __correlation__ between __mean sentiment__ and __stock close__"
   ]
  },
  {
   "cell_type": "code",
   "execution_count": 14,
   "metadata": {},
   "outputs": [
    {
     "data": {
      "image/png": "[encoded data removed]",
      "text/plain": [
       "<Figure size 1500x800 with 2 Axes>"
      ]
     },
     "metadata": {},
     "output_type": "display_data"
    }
   ],
   "source": [
    "fig, ax = plt.subplots(figsize = (15,8))\n",
    "ax2 = ax.twinx()\n",
    "\n",
    "sns.lineplot(data=final_df, x='Date', y=final_df['Close'], label='Close', ax=ax, color = \"blue\")\n",
    "sns.lineplot(data=final_df, x='Date', y=final_df['sen_sum'], label='Tweet Sentiment',ax=ax2, color = \"orange\",legend=False)\n",
    "\n",
    "# Add labels and title\n",
    "ax.set_ylabel(\"Closing Price\", fontsize=15)\n",
    "ax2.set_ylabel(\"Sentiment\", fontsize=15, color= \"orange\")\n",
    "plt.title('Line Plots of Stock Closing Price and tweet Sentiment ')\n",
    "\n",
    "ax.set_xlabel(\"Date\", fontsize = 15)\n",
    "fig.autofmt_xdate(rotation=90)\n",
    "plt.tight_layout()\n",
    "ax.grid(True,linestyle='--', alpha=0.7)\n",
    "ax.grid(True, which=\"minor\", linestyle = \"dotted\", alpha = 0.5)\n",
    "ax.minorticks_on()\n",
    "ax.tick_params(axis='x', labelsize= 8)\n",
    "ax2.minorticks_on()\n",
    "\n",
    "\n",
    "lines1, labels1 = ax.get_legend_handles_labels()\n",
    "lines2, labels2 = ax2.get_legend_handles_labels()\n",
    "ax.legend(lines1 + lines2, labels1 + labels2, loc='upper left', fontsize = 12)\n",
    "pearson_corr = final_df['Close'].corr(final_df['sen_sum'], method='pearson')\n",
    "\n",
    "# Display correlation coefficients on the plot\n",
    "plt.annotate(f\"Pearson Correlation: {pearson_corr:.2f}\", xy=(0.1, 0.80), xycoords='axes fraction', ha='center', fontsize=15, color='green')\n",
    "# Show the plot\n",
    "plt.show()"
   ]
  },
  {
   "cell_type": "markdown",
   "metadata": {},
   "source": [
    "The correlation between twitter sentiment and the closing price of the stock is very low. This suggests that the twitter sentiment will not significantly improve the performance of the predictive model."
   ]
  },
  {
   "cell_type": "markdown",
   "metadata": {},
   "source": [
    "#### Applying LSTM\n"
   ]
  },
  {
   "cell_type": "markdown",
   "metadata": {},
   "source": [
    "The deep learning model that has been used in this project for stock prediction is __LSTM (Long Short-Term Memory)__.<br>\n",
    "Long Short-Term Memory (LSTM) is a type of recurrent neural network (RNN) architecture that is designed to overcome the limitations of traditional RNNs in capturing long-range dependencies and handling vanishing or exploding gradients. LSTMs are widely used in various sequence modeling tasks, including time series analysis, and financial forecasting, such as stock analysis.<br>\n",
    "\n",
    "The advantages that LSTM provides for stock prediction are as follows:\n",
    "- LSTMs are equipped with memory cells that allow them to remember information over long sequences. This is crucial for analyzing time series data like stock prices, where past prices and trends can have a significant impact on future movements.\n",
    "-  LSTMs are well-suited for capturing time dependencies and learning patterns in sequential data.\n",
    "-  LSTMs address the issue of vanishing gradient by using gating mechanisms (such as the forget gate, input gate, and output gate) to regulate the flow of information and gradients within the network.\n",
    "- LSTMs are adaptable and can be customized based on the specific requirements of the stock analysis task. For example, the network architecture, hyperparameters, and training data can be adjusted to optimize performance and accuracy."
   ]
  },
  {
   "cell_type": "code",
   "execution_count": 29,
   "metadata": {},
   "outputs": [],
   "source": [
    "def assign_symbol(x):\n",
    "    if x == 1:\n",
    "        return 'pos'\n",
    "    elif x == 0:\n",
    "        return 'nue'\n",
    "    else:\n",
    "        return 'neg'"
   ]
  },
  {
   "cell_type": "code",
   "execution_count": 30,
   "metadata": {},
   "outputs": [
    {
     "data": {
      "text/html": [
       "<div>\n",
       "<style scoped>\n",
       "    .dataframe tbody tr th:only-of-type {\n",
       "        vertical-align: middle;\n",
       "    }\n",
       "\n",
       "    .dataframe tbody tr th {\n",
       "        vertical-align: top;\n",
       "    }\n",
       "\n",
       "    .dataframe thead th {\n",
       "        text-align: right;\n",
       "    }\n",
       "</style>\n",
       "<table border=\"1\" class=\"dataframe\">\n",
       "  <thead>\n",
       "    <tr style=\"text-align: right;\">\n",
       "      <th></th>\n",
       "      <th>Open</th>\n",
       "      <th>High</th>\n",
       "      <th>Low</th>\n",
       "      <th>Close</th>\n",
       "      <th>Volume</th>\n",
       "      <th>Adj Close</th>\n",
       "      <th>sen_mean</th>\n",
       "      <th>twt_volume</th>\n",
       "    </tr>\n",
       "    <tr>\n",
       "      <th>Date</th>\n",
       "      <th></th>\n",
       "      <th></th>\n",
       "      <th></th>\n",
       "      <th></th>\n",
       "      <th></th>\n",
       "      <th></th>\n",
       "      <th></th>\n",
       "      <th></th>\n",
       "    </tr>\n",
       "  </thead>\n",
       "  <tbody>\n",
       "    <tr>\n",
       "      <th>2024-01-02</th>\n",
       "      <td>492.440002</td>\n",
       "      <td>492.950012</td>\n",
       "      <td>475.950012</td>\n",
       "      <td>481.679993</td>\n",
       "      <td>41125400.0</td>\n",
       "      <td>481.657410</td>\n",
       "      <td>0.083774</td>\n",
       "      <td>1325.0</td>\n",
       "    </tr>\n",
       "    <tr>\n",
       "      <th>2024-01-03</th>\n",
       "      <td>474.850006</td>\n",
       "      <td>481.839996</td>\n",
       "      <td>473.200012</td>\n",
       "      <td>475.690002</td>\n",
       "      <td>32089600.0</td>\n",
       "      <td>475.667694</td>\n",
       "      <td>0.102433</td>\n",
       "      <td>1562.0</td>\n",
       "    </tr>\n",
       "    <tr>\n",
       "      <th>2024-01-04</th>\n",
       "      <td>477.670013</td>\n",
       "      <td>485.000000</td>\n",
       "      <td>475.079987</td>\n",
       "      <td>479.980011</td>\n",
       "      <td>30653500.0</td>\n",
       "      <td>479.957489</td>\n",
       "      <td>0.138872</td>\n",
       "      <td>1649.0</td>\n",
       "    </tr>\n",
       "    <tr>\n",
       "      <th>2024-01-05</th>\n",
       "      <td>484.619995</td>\n",
       "      <td>495.470001</td>\n",
       "      <td>483.059998</td>\n",
       "      <td>490.970001</td>\n",
       "      <td>41456800.0</td>\n",
       "      <td>490.946960</td>\n",
       "      <td>0.143971</td>\n",
       "      <td>2181.0</td>\n",
       "    </tr>\n",
       "    <tr>\n",
       "      <th>2024-01-08</th>\n",
       "      <td>495.119995</td>\n",
       "      <td>522.750000</td>\n",
       "      <td>494.790009</td>\n",
       "      <td>522.530029</td>\n",
       "      <td>64251000.0</td>\n",
       "      <td>522.505493</td>\n",
       "      <td>0.106481</td>\n",
       "      <td>3888.0</td>\n",
       "    </tr>\n",
       "    <tr>\n",
       "      <th>...</th>\n",
       "      <td>...</td>\n",
       "      <td>...</td>\n",
       "      <td>...</td>\n",
       "      <td>...</td>\n",
       "      <td>...</td>\n",
       "      <td>...</td>\n",
       "      <td>...</td>\n",
       "      <td>...</td>\n",
       "    </tr>\n",
       "    <tr>\n",
       "      <th>2024-03-22</th>\n",
       "      <td>911.409973</td>\n",
       "      <td>947.780029</td>\n",
       "      <td>908.340027</td>\n",
       "      <td>942.890015</td>\n",
       "      <td>58521500.0</td>\n",
       "      <td>942.890015</td>\n",
       "      <td>0.140387</td>\n",
       "      <td>4338.0</td>\n",
       "    </tr>\n",
       "    <tr>\n",
       "      <th>2024-03-25</th>\n",
       "      <td>939.409973</td>\n",
       "      <td>967.659973</td>\n",
       "      <td>935.099976</td>\n",
       "      <td>950.020020</td>\n",
       "      <td>55213600.0</td>\n",
       "      <td>950.020020</td>\n",
       "      <td>0.146554</td>\n",
       "      <td>3671.0</td>\n",
       "    </tr>\n",
       "    <tr>\n",
       "      <th>2024-03-26</th>\n",
       "      <td>958.510010</td>\n",
       "      <td>963.750000</td>\n",
       "      <td>925.020020</td>\n",
       "      <td>925.609985</td>\n",
       "      <td>51364800.0</td>\n",
       "      <td>925.609985</td>\n",
       "      <td>0.069724</td>\n",
       "      <td>2682.0</td>\n",
       "    </tr>\n",
       "    <tr>\n",
       "      <th>2024-03-27</th>\n",
       "      <td>931.119995</td>\n",
       "      <td>932.400024</td>\n",
       "      <td>891.229980</td>\n",
       "      <td>902.500000</td>\n",
       "      <td>58606700.0</td>\n",
       "      <td>902.500000</td>\n",
       "      <td>0.043437</td>\n",
       "      <td>3154.0</td>\n",
       "    </tr>\n",
       "    <tr>\n",
       "      <th>2024-03-28</th>\n",
       "      <td>900.000000</td>\n",
       "      <td>913.000000</td>\n",
       "      <td>891.929993</td>\n",
       "      <td>903.559998</td>\n",
       "      <td>43521200.0</td>\n",
       "      <td>903.559998</td>\n",
       "      <td>0.101736</td>\n",
       "      <td>2477.0</td>\n",
       "    </tr>\n",
       "  </tbody>\n",
       "</table>\n",
       "<p>61 rows × 8 columns</p>\n",
       "</div>"
      ],
      "text/plain": [
       "                  Open        High         Low       Close      Volume  \\\n",
       "Date                                                                     \n",
       "2024-01-02  492.440002  492.950012  475.950012  481.679993  41125400.0   \n",
       "2024-01-03  474.850006  481.839996  473.200012  475.690002  32089600.0   \n",
       "2024-01-04  477.670013  485.000000  475.079987  479.980011  30653500.0   \n",
       "2024-01-05  484.619995  495.470001  483.059998  490.970001  41456800.0   \n",
       "2024-01-08  495.119995  522.750000  494.790009  522.530029  64251000.0   \n",
       "...                ...         ...         ...         ...         ...   \n",
       "2024-03-22  911.409973  947.780029  908.340027  942.890015  58521500.0   \n",
       "2024-03-25  939.409973  967.659973  935.099976  950.020020  55213600.0   \n",
       "2024-03-26  958.510010  963.750000  925.020020  925.609985  51364800.0   \n",
       "2024-03-27  931.119995  932.400024  891.229980  902.500000  58606700.0   \n",
       "2024-03-28  900.000000  913.000000  891.929993  903.559998  43521200.0   \n",
       "\n",
       "             Adj Close  sen_mean  twt_volume  \n",
       "Date                                          \n",
       "2024-01-02  481.657410  0.083774      1325.0  \n",
       "2024-01-03  475.667694  0.102433      1562.0  \n",
       "2024-01-04  479.957489  0.138872      1649.0  \n",
       "2024-01-05  490.946960  0.143971      2181.0  \n",
       "2024-01-08  522.505493  0.106481      3888.0  \n",
       "...                ...       ...         ...  \n",
       "2024-03-22  942.890015  0.140387      4338.0  \n",
       "2024-03-25  950.020020  0.146554      3671.0  \n",
       "2024-03-26  925.609985  0.069724      2682.0  \n",
       "2024-03-27  902.500000  0.043437      3154.0  \n",
       "2024-03-28  903.559998  0.101736      2477.0  \n",
       "\n",
       "[61 rows x 8 columns]"
      ]
     },
     "execution_count": 30,
     "metadata": {},
     "output_type": "execute_result"
    }
   ],
   "source": [
    "train_dates = pd.to_datetime(final_df['Date'])\n",
    "\n",
    "#Variables for training\n",
    "cols = [\n",
    "    'Open',\n",
    "    'High', 'Low',\n",
    "    'Close',\n",
    "    'Volume',\n",
    "    'Adj Close',\n",
    "    'sen_mean',\n",
    "    'twt_volume'\n",
    "        ]\n",
    "#Date and volume columns are not used in training.\n",
    "\n",
    "#New dataframe with only training data - 5 columns\n",
    "df_for_training = final_df[cols].astype(float)\n",
    "df_for_training.index=final_df['Date']\n",
    "df_for_training"
   ]
  },
  {
   "cell_type": "code",
   "execution_count": 31,
   "metadata": {},
   "outputs": [
    {
     "data": {
      "text/plain": [
       "array([[0.03636852, 0.01262714],\n",
       "       [0.        , 0.        ],\n",
       "       [0.00583056, 0.00904348],\n",
       "       [0.02020012, 0.0322108 ],\n",
       "       [0.04190958, 0.09874053],\n",
       "       [0.10164166, 0.11743893],\n",
       "       [0.12676253, 0.14294605],\n",
       "       [0.15535704, 0.15289602],\n",
       "       [0.147521  , 0.15053504],\n",
       "       [0.15574988, 0.1857815 ],\n",
       "       [0.18322781, 0.17884603],\n",
       "       [0.20210472, 0.20106472],\n",
       "       [0.21717737, 0.25132034],\n",
       "       [0.25976922, 0.25475648],\n",
       "       [0.24986562, 0.25937305],\n",
       "       [0.2650415 , 0.29076171],\n",
       "       [0.30734399, 0.29613718],\n",
       "       [0.27860474, 0.28378416],\n",
       "       [0.28422859, 0.3140135 ],\n",
       "       [0.31871561, 0.32052731],\n",
       "       [0.28852917, 0.29424006],\n",
       "       [0.30217507, 0.32586071],\n",
       "       [0.34092127, 0.39190548],\n",
       "       [0.42881361, 0.45877246],\n",
       "       [0.45786292, 0.43539431],\n",
       "       [0.43075713, 0.47494106],\n",
       "       [0.46704293, 0.46528627],\n",
       "       [0.47653312, 0.51781871],\n",
       "       [0.51926972, 0.52024286],\n",
       "       [0.47378322, 0.51771333],\n",
       "       [0.53171652, 0.55506767],\n",
       "       [0.54550716, 0.52888592],\n",
       "       [0.55028324, 0.52793723],\n",
       "       [0.50576844, 0.46130212],\n",
       "       [0.42428563, 0.41956282],\n",
       "       [0.56940825, 0.65283847],\n",
       "       [0.6886036 , 0.65871987],\n",
       "       [0.66606705, 0.66451699],\n",
       "       [0.65947151, 0.65627461],\n",
       "       [0.62306166, 0.63439316],\n",
       "       [0.6535376 , 0.66493864],\n",
       "       [0.67226976, 0.73170024],\n",
       "       [0.7576603 , 0.79405603],\n",
       "       [0.78123062, 0.80946651],\n",
       "       [0.83813001, 0.86714512],\n",
       "       [0.88229336, 0.95081711],\n",
       "       [0.98525823, 0.84243781],\n",
       "       [0.80519367, 0.805461  ],\n",
       "       [0.8386883 , 0.9348796 ],\n",
       "       [0.90083939, 0.91327119],\n",
       "       [0.8702808 , 0.85120761],\n",
       "       [0.8155522 , 0.84895189],\n",
       "       [0.88704874, 0.86198016],\n",
       "       [0.81079682, 0.88185988],\n",
       "       [0.87482935, 0.90239312],\n",
       "       [0.92658064, 0.92480264],\n",
       "       [0.90261747, 0.98496897],\n",
       "       [0.96050937, 1.        ],\n",
       "       [1.        , 0.94854029],\n",
       "       [0.94336928, 0.89982126],\n",
       "       [0.87902657, 0.90205588]])"
      ]
     },
     "execution_count": 31,
     "metadata": {},
     "output_type": "execute_result"
    }
   ],
   "source": [
    "from sklearn.preprocessing import MinMaxScaler\n",
    "scaler = MinMaxScaler()\n",
    "scaler = scaler.fit(df_for_training)\n",
    "df_for_training_scaled = scaler.transform(df_for_training)\n",
    "\n",
    "scaler_for_inference = MinMaxScaler()\n",
    "scaler_for_inference.fit_transform(df_for_training.loc[:,['Open','Adj Close']])\n"
   ]
  },
  {
   "cell_type": "code",
   "execution_count": 32,
   "metadata": {},
   "outputs": [
    {
     "data": {
      "text/plain": [
       "(61, 8)"
      ]
     },
     "execution_count": 32,
     "metadata": {},
     "output_type": "execute_result"
    }
   ],
   "source": [
    "df_for_training_scaled.shape\n"
   ]
  },
  {
   "cell_type": "code",
   "execution_count": 33,
   "metadata": {},
   "outputs": [
    {
     "name": "stdout",
     "output_type": "stream",
     "text": [
      "TrainX shape = (56, 5, 8)\n",
      "TrainY shape = (56, 1, 2)\n"
     ]
    }
   ],
   "source": [
    "#Empty lists to be populated using formatted training data\n",
    "trainX = []\n",
    "trainY = []\n",
    "\n",
    "n_future = 1   # Number of days we want to look into the future based on the past days.\n",
    "n_past = 5  # Number of past days we want to use to predict the future.\n",
    "\n",
    "#Reformat input data into a shape: (n_samples x timesteps x n_features)\n",
    "for i in range(n_past, len(df_for_training_scaled) - n_future +1):\n",
    "    trainX.append(df_for_training_scaled[i - n_past:i, 0:df_for_training.shape[1]])\n",
    "    trainY.append(df_for_training_scaled[i + n_future - 1:i + n_future,[0,-2]])\n",
    "\n",
    "trainX, trainY = np.array(trainX), np.array(trainY)\n",
    "\n",
    "print(f'TrainX shape = {trainX.shape}')\n",
    "print(f'TrainY shape = {trainY.shape}')"
   ]
  },
  {
   "cell_type": "code",
   "execution_count": 34,
   "metadata": {},
   "outputs": [
    {
     "data": {
      "text/plain": [
       "((50, 5, 6), (50, 5, 8))"
      ]
     },
     "execution_count": 34,
     "metadata": {},
     "output_type": "execute_result"
    }
   ],
   "source": [
    "from sklearn.model_selection import train_test_split\n",
    "\n",
    "X_train_lstm_without_twitter, X_test_lstm_without_twitter, y_train_lstm_without_twitter, y_test_lstm_without_twitter = train_test_split(trainX[:,:,:-2], trainY, test_size=0.1, random_state=1)\n",
    "\n",
    "X_train_lstm_twitter, X_test_lstm_twitter, y_train_lstm_twitter, y_test_lstm_twitter = train_test_split(trainX, trainY, test_size=0.1, random_state=1)\n",
    "\n",
    "X_train_lstm_without_twitter.shape,X_train_lstm_twitter.shape"
   ]
  },
  {
   "cell_type": "markdown",
   "metadata": {},
   "source": [
    "Stock Prediction with twitter sentiment"
   ]
  },
  {
   "cell_type": "code",
   "execution_count": 35,
   "metadata": {},
   "outputs": [],
   "source": [
    "x_train = torch.from_numpy(X_train_lstm_twitter).type(torch.Tensor)\n",
    "x_test = torch.from_numpy(X_test_lstm_twitter).type(torch.Tensor)\n",
    "y_train_lstm = torch.from_numpy(y_train_lstm_twitter).type(torch.Tensor)\n",
    "y_test_lstm = torch.from_numpy(y_test_lstm_twitter).type(torch.Tensor)"
   ]
  },
  {
   "cell_type": "code",
   "execution_count": 36,
   "metadata": {},
   "outputs": [],
   "source": [
    "input_dim = 8\n",
    "hidden_dim = 32\n",
    "num_layers = 2\n",
    "output_dim = 1\n",
    "num_epochs = 512"
   ]
  },
  {
   "cell_type": "code",
   "execution_count": 37,
   "metadata": {},
   "outputs": [],
   "source": [
    "class LSTM(nn.Module):\n",
    "    def __init__(self, input_dim, hidden_dim, num_layers, output_dim):\n",
    "        super(LSTM, self).__init__()\n",
    "        self.hidden_dim = hidden_dim\n",
    "        self.num_layers = num_layers\n",
    "        \n",
    "        self.lstm = nn.LSTM(input_dim, hidden_dim, num_layers, batch_first=True)\n",
    "        self.fc = nn.Linear(hidden_dim, output_dim)\n",
    "    def forward(self, x):\n",
    "        h0 = torch.zeros(self.num_layers, x.size(0), self.hidden_dim).requires_grad_()\n",
    "        c0 = torch.zeros(self.num_layers, x.size(0), self.hidden_dim).requires_grad_()\n",
    "        out, (hn, cn) = self.lstm(x, (h0.detach(), c0.detach()))\n",
    "        out = self.fc(out[:, -1, :]) \n",
    "        return out"
   ]
  },
  {
   "cell_type": "code",
   "execution_count": 38,
   "metadata": {},
   "outputs": [],
   "source": [
    "model = LSTM(input_dim=input_dim, hidden_dim=hidden_dim, output_dim=output_dim, num_layers=num_layers)\n",
    "criterion = torch.nn.MSELoss(reduction='mean')\n",
    "optimiser = torch.optim.Adam(model.parameters(), lr=0.01)"
   ]
  },
  {
   "cell_type": "code",
   "execution_count": 39,
   "metadata": {},
   "outputs": [
    {
     "name": "stdout",
     "output_type": "stream",
     "text": [
      "MSE for training: 0.056\n",
      "Training time: 2.043\n"
     ]
    }
   ],
   "source": [
    "import time\n",
    "hist = np.zeros(num_epochs)\n",
    "start_time = time.time()\n",
    "lstm = []\n",
    "for t in range(num_epochs):\n",
    "    y_train_pred = model(x_train)\n",
    "    loss = criterion(y_train_pred, y_train_lstm)\n",
    "    # print(\"Epoch \", t, \"MSE: \", loss.item())\n",
    "    hist[t] = loss.item()\n",
    "    optimiser.zero_grad()\n",
    "    loss.backward()\n",
    "    optimiser.step()\n",
    "print(f'MSE for training: {loss.item():.3f}')\n",
    "training_time = time.time()-start_time\n",
    "print(f\"Training time: {training_time:.3f}\")"
   ]
  },
  {
   "cell_type": "code",
   "execution_count": 40,
   "metadata": {},
   "outputs": [
    {
     "data": {
      "image/png": "[encoded data removed]",
      "text/plain": [
       "<Figure size 640x480 with 1 Axes>"
      ]
     },
     "metadata": {},
     "output_type": "display_data"
    }
   ],
   "source": [
    "window_size = 16 \n",
    "moving_avg = np.convolve(hist, np.ones(window_size)/window_size, mode='valid')\n",
    "sns.lineplot(x = range(window_size, num_epochs + 1), y = moving_avg, label = f'Moving Average (Window Size {window_size})')\n",
    "plt.xlabel('Epochs')\n",
    "plt.ylabel('Training Loss')\n",
    "plt.title('Training Loss vs. Number of Epochs')\n",
    "plt.legend()\n",
    "plt.grid(True)\n",
    "plt.show()"
   ]
  },
  {
   "cell_type": "code",
   "execution_count": 41,
   "metadata": {},
   "outputs": [
    {
     "name": "stdout",
     "output_type": "stream",
     "text": [
      "MSE for testing with twitter: 0.042\n"
     ]
    }
   ],
   "source": [
    "y_test_pred = model(x_test)\n",
    "loss = criterion(y_test_pred, y_test_lstm)\n",
    "print(f'MSE for testing with twitter: {loss.item():.3f}')"
   ]
  },
  {
   "cell_type": "markdown",
   "metadata": {},
   "source": [
    "Stock prediction without twitter sentiment"
   ]
  },
  {
   "cell_type": "code",
   "execution_count": 42,
   "metadata": {},
   "outputs": [
    {
     "name": "stdout",
     "output_type": "stream",
     "text": [
      "MSE for training: 0.056\n",
      "Training time: 1.776\n",
      "MSE for testing without twitter: 0.042\n"
     ]
    }
   ],
   "source": [
    "x_train = torch.from_numpy(X_train_lstm_without_twitter).type(torch.Tensor)\n",
    "x_test = torch.from_numpy(X_test_lstm_without_twitter).type(torch.Tensor)\n",
    "y_train_lstm = torch.from_numpy(y_train_lstm_without_twitter).type(torch.Tensor)\n",
    "y_test_lstm = torch.from_numpy(y_test_lstm_without_twitter).type(torch.Tensor)\n",
    "input_dim = 6\n",
    "hidden_dim = 32\n",
    "num_layers = 2\n",
    "output_dim = 1\n",
    "num_epochs = 512\n",
    "class LSTM(nn.Module):\n",
    "    def __init__(self, input_dim, hidden_dim, num_layers, output_dim):\n",
    "        super(LSTM, self).__init__()\n",
    "        self.hidden_dim = hidden_dim\n",
    "        self.num_layers = num_layers\n",
    "        \n",
    "        self.lstm = nn.LSTM(input_dim, hidden_dim, num_layers, batch_first=True)\n",
    "        self.fc = nn.Linear(hidden_dim, output_dim)\n",
    "    def forward(self, x):\n",
    "        h0 = torch.zeros(self.num_layers, x.size(0), self.hidden_dim).requires_grad_()\n",
    "        c0 = torch.zeros(self.num_layers, x.size(0), self.hidden_dim).requires_grad_()\n",
    "        out, (hn, cn) = self.lstm(x, (h0.detach(), c0.detach()))\n",
    "        out = self.fc(out[:, -1, :]) \n",
    "        return out\n",
    "model = LSTM(input_dim=input_dim, hidden_dim=hidden_dim, output_dim=output_dim, num_layers=num_layers)\n",
    "criterion = torch.nn.MSELoss(reduction='mean')\n",
    "optimiser = torch.optim.Adam(model.parameters(), lr=0.01)\n",
    "import time\n",
    "hist = np.zeros(num_epochs)\n",
    "start_time = time.time()\n",
    "lstm = []\n",
    "for t in range(num_epochs):\n",
    "    y_train_pred = model(x_train)\n",
    "    loss = criterion(y_train_pred, y_train_lstm)\n",
    "    hist[t] = loss.item()\n",
    "    optimiser.zero_grad()\n",
    "    loss.backward()\n",
    "    optimiser.step()\n",
    "print(f'MSE for training: {loss.item():.3f}')\n",
    "training_time = time.time()-start_time\n",
    "print(f\"Training time: {training_time:.3f}\")\n",
    "y_test_pred = model(x_test)\n",
    "loss = criterion(y_test_pred, y_test_lstm)\n",
    "print(f'MSE for testing without twitter: {loss.item():.3f}')\n"
   ]
  },
  {
   "cell_type": "code",
   "execution_count": 43,
   "metadata": {},
   "outputs": [
    {
     "data": {
      "image/png": "[encoded data removed]",
      "text/plain": [
       "<Figure size 640x480 with 1 Axes>"
      ]
     },
     "metadata": {},
     "output_type": "display_data"
    }
   ],
   "source": [
    "window_size = 16  # Adjust window size as needed\n",
    "moving_avg = np.convolve(hist, np.ones(window_size)/window_size, mode='valid')\n",
    "sns.lineplot(x = range(window_size, num_epochs + 1), y = moving_avg, label = f'Moving Average (Window Size {window_size})')\n",
    "plt.xlabel('Epochs')\n",
    "plt.ylabel('Training Loss')\n",
    "plt.title('Training Loss vs. Number of Epochs')\n",
    "plt.legend()\n",
    "plt.grid(True)\n",
    "plt.show()"
   ]
  },
  {
   "cell_type": "markdown",
   "metadata": {},
   "source": [
    "#### Conclusions"
   ]
  },
  {
   "cell_type": "markdown",
   "metadata": {},
   "source": [
    "- The testing error for the prediction is very small (0.042). However as mentioned previously in the visualization section, given the low correlation between the twitter sentiment and the closing price, the twitter sentiment fails to meaningfully improve the predictions made by the LSTM model.<br>\n",
    "- The project is limited to only the first quater of 2024 of only one company, the improvements from the sentiment maybe more noticeable for different companies or for NVIDIA over a longer period of time.<br>\n",
    "- Further research, with a wider scope needs to be performed to definitively prove or disprove the viability of using twitter sentiment to predict stock movements."
   ]
  }
 ],
 "metadata": {
  "kernelspec": {
   "display_name": ".venv",
   "language": "python",
   "name": "python3"
  },
  "language_info": {
   "codemirror_mode": {
    "name": "ipython",
    "version": 3
   },
   "file_extension": ".py",
   "mimetype": "text/x-python",
   "name": "python",
   "nbconvert_exporter": "python",
   "pygments_lexer": "ipython3",
   "version": "3.12.8"
  }
 },
 "nbformat": 4,
 "nbformat_minor": 2
}
